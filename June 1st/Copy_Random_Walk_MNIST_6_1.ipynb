{
  "nbformat": 4,
  "nbformat_minor": 0,
  "metadata": {
    "colab": {
      "provenance": [],
      "gpuType": "T4",
      "include_colab_link": true
    },
    "kernelspec": {
      "name": "python3",
      "display_name": "Python 3"
    },
    "language_info": {
      "name": "python"
    },
    "accelerator": "GPU"
  },
  "cells": [
    {
      "cell_type": "markdown",
      "metadata": {
        "id": "view-in-github",
        "colab_type": "text"
      },
      "source": [
        "<a href=\"https://colab.research.google.com/github/RosemaryYool/Notes-for-AI-in-Science-and-Medicine/blob/main/Copy_of_Random_Walk_MNIST_6_1.ipynb\" target=\"_parent\"><img src=\"https://colab.research.google.com/assets/colab-badge.svg\" alt=\"Open In Colab\"/></a>"
      ]
    },
    {
      "cell_type": "code",
      "metadata": {
        "id": "G2-MnAgsMv7g"
      },
      "source": [
        "import numpy as np\n",
        "import matplotlib.pyplot as plt\n",
        "from torchvision import datasets\n",
        "import torch\n",
        "from skimage.util import montage"
      ],
      "execution_count": 3,
      "outputs": []
    },
    {
      "cell_type": "code",
      "metadata": {
        "id": "vtt2uLdjovJE"
      },
      "source": [
        "def GPU(data):\n",
        "    return torch.tensor(data, requires_grad=True, dtype=torch.float, device=torch.device('cuda'))\n",
        "\n",
        "def GPU_data(data):\n",
        "    return torch.tensor(data, requires_grad=False, dtype=torch.float, device=torch.device('cuda'))"
      ],
      "execution_count": 4,
      "outputs": []
    },
    {
      "cell_type": "code",
      "metadata": {
        "id": "6DQxxGNl1E1o"
      },
      "source": [
        "def plot(x):\n",
        "    if type(x) == torch.Tensor :\n",
        "        x = x.cpu().detach().numpy()\n",
        "\n",
        "    fig, ax = plt.subplots()\n",
        "    im = ax.imshow(x, cmap = 'gray')\n",
        "    ax.axis('off')\n",
        "    fig.set_size_inches(10, 10)\n",
        "    plt.show()"
      ],
      "execution_count": 5,
      "outputs": []
    },
    {
      "cell_type": "code",
      "metadata": {
        "id": "wLcWTt76COK2"
      },
      "source": [
        "def montage_plot(x):\n",
        "    x = np.pad(x, pad_width=((0, 0), (1, 1), (1, 1)), mode='constant', constant_values=0)\n",
        "    plot(montage(x))"
      ],
      "execution_count": 6,
      "outputs": []
    },
    {
      "cell_type": "code",
      "metadata": {
        "id": "mm7ZMYrVEdMX",
        "colab": {
          "base_uri": "https://localhost:8080/"
        },
        "outputId": "23b20d43-4963-4060-b630-0e233fbd9713"
      },
      "source": [
        "#MNIST\n",
        "train_set = datasets.MNIST('./data', train=True, download=True)\n",
        "test_set = datasets.MNIST('./data', train=False, download=True)"
      ],
      "execution_count": 7,
      "outputs": [
        {
          "output_type": "stream",
          "name": "stdout",
          "text": [
            "Downloading http://yann.lecun.com/exdb/mnist/train-images-idx3-ubyte.gz\n",
            "Downloading http://yann.lecun.com/exdb/mnist/train-images-idx3-ubyte.gz to ./data/MNIST/raw/train-images-idx3-ubyte.gz\n"
          ]
        },
        {
          "output_type": "stream",
          "name": "stderr",
          "text": [
            "100%|██████████| 9912422/9912422 [00:00<00:00, 282824119.70it/s]"
          ]
        },
        {
          "output_type": "stream",
          "name": "stdout",
          "text": [
            "Extracting ./data/MNIST/raw/train-images-idx3-ubyte.gz to ./data/MNIST/raw\n"
          ]
        },
        {
          "output_type": "stream",
          "name": "stderr",
          "text": [
            "\n"
          ]
        },
        {
          "output_type": "stream",
          "name": "stdout",
          "text": [
            "\n",
            "Downloading http://yann.lecun.com/exdb/mnist/train-labels-idx1-ubyte.gz\n",
            "Downloading http://yann.lecun.com/exdb/mnist/train-labels-idx1-ubyte.gz to ./data/MNIST/raw/train-labels-idx1-ubyte.gz\n"
          ]
        },
        {
          "output_type": "stream",
          "name": "stderr",
          "text": [
            "100%|██████████| 28881/28881 [00:00<00:00, 95382436.08it/s]\n"
          ]
        },
        {
          "output_type": "stream",
          "name": "stdout",
          "text": [
            "Extracting ./data/MNIST/raw/train-labels-idx1-ubyte.gz to ./data/MNIST/raw\n",
            "\n",
            "Downloading http://yann.lecun.com/exdb/mnist/t10k-images-idx3-ubyte.gz\n",
            "Downloading http://yann.lecun.com/exdb/mnist/t10k-images-idx3-ubyte.gz to ./data/MNIST/raw/t10k-images-idx3-ubyte.gz\n"
          ]
        },
        {
          "output_type": "stream",
          "name": "stderr",
          "text": [
            "100%|██████████| 1648877/1648877 [00:00<00:00, 97985171.60it/s]"
          ]
        },
        {
          "output_type": "stream",
          "name": "stdout",
          "text": [
            "Extracting ./data/MNIST/raw/t10k-images-idx3-ubyte.gz to ./data/MNIST/raw\n",
            "\n",
            "Downloading http://yann.lecun.com/exdb/mnist/t10k-labels-idx1-ubyte.gz\n",
            "Downloading http://yann.lecun.com/exdb/mnist/t10k-labels-idx1-ubyte.gz to ./data/MNIST/raw/t10k-labels-idx1-ubyte.gz\n"
          ]
        },
        {
          "output_type": "stream",
          "name": "stderr",
          "text": [
            "\n",
            "100%|██████████| 4542/4542 [00:00<00:00, 17921475.79it/s]\n"
          ]
        },
        {
          "output_type": "stream",
          "name": "stdout",
          "text": [
            "Extracting ./data/MNIST/raw/t10k-labels-idx1-ubyte.gz to ./data/MNIST/raw\n",
            "\n"
          ]
        }
      ]
    },
    {
      "cell_type": "code",
      "metadata": {
        "id": "Ols0HivADS6a"
      },
      "source": [
        "X = train_set.data.numpy()\n",
        "X_test = test_set.data.numpy()\n",
        "Y = train_set.targets.numpy()\n",
        "Y_test = test_set.targets.numpy()\n",
        "\n",
        "X = X[:,None,:,:]/255\n",
        "X_test = X_test[:,None,:,:]/255"
      ],
      "execution_count": 8,
      "outputs": []
    },
    {
      "cell_type": "code",
      "metadata": {
        "id": "oTo8Ij_dtvnm",
        "outputId": "918ecbdd-a4a7-4ddb-955c-3e960ce04304",
        "colab": {
          "base_uri": "https://localhost:8080/"
        }
      },
      "source": [
        "X.shape,Y.shape,X_test.shape,Y_test.shape"
      ],
      "execution_count": 9,
      "outputs": [
        {
          "output_type": "execute_result",
          "data": {
            "text/plain": [
              "((60000, 1, 28, 28), (60000,), (10000, 1, 28, 28), (10000,))"
            ]
          },
          "metadata": {},
          "execution_count": 9
        }
      ]
    },
    {
      "cell_type": "code",
      "source": [
        "x = X[10,0,:,:]"
      ],
      "metadata": {
        "id": "sgEMZBidroOE"
      },
      "execution_count": 10,
      "outputs": []
    },
    {
      "cell_type": "code",
      "source": [
        "x.shape"
      ],
      "metadata": {
        "colab": {
          "base_uri": "https://localhost:8080/"
        },
        "id": "JJdceJ-yr-dz",
        "outputId": "d35f37c3-eff8-4c77-a820-0f078507d2aa"
      },
      "execution_count": 11,
      "outputs": [
        {
          "output_type": "execute_result",
          "data": {
            "text/plain": [
              "(28, 28)"
            ]
          },
          "metadata": {},
          "execution_count": 11
        }
      ]
    },
    {
      "cell_type": "code",
      "source": [
        "plt.imshow(x)"
      ],
      "metadata": {
        "colab": {
          "base_uri": "https://localhost:8080/",
          "height": 447
        },
        "id": "2XgJGrqOrMHg",
        "outputId": "58154054-ec89-4329-9d7d-b9ee5e46376c"
      },
      "execution_count": 12,
      "outputs": [
        {
          "output_type": "execute_result",
          "data": {
            "text/plain": [
              "<matplotlib.image.AxesImage at 0x7f8de8f28550>"
            ]
          },
          "metadata": {},
          "execution_count": 12
        },
        {
          "output_type": "display_data",
          "data": {
            "text/plain": [
              "<Figure size 640x480 with 1 Axes>"
            ],
            "image/png": "[encoded data removed]"
          },
          "metadata": {}
        }
      ]
    },
    {
      "cell_type": "markdown",
      "source": [
        "Idea: Take our vector with dimension 784 and multiply it with a matrix that will send it to a vector that has 10 \"slots\" or dimensions. "
      ],
      "metadata": {
        "id": "u9N_2EqDsaAS"
      }
    },
    {
      "cell_type": "code",
      "source": [
        "a = np.random.random((5,1))"
      ],
      "metadata": {
        "id": "wwPeKPearusD"
      },
      "execution_count": 13,
      "outputs": []
    },
    {
      "cell_type": "code",
      "source": [
        "a"
      ],
      "metadata": {
        "colab": {
          "base_uri": "https://localhost:8080/"
        },
        "id": "3WlMIotAsl_8",
        "outputId": "dd27f390-c91f-4121-adf0-a789ce0524a4"
      },
      "execution_count": 14,
      "outputs": [
        {
          "output_type": "execute_result",
          "data": {
            "text/plain": [
              "array([[0.79672126],\n",
              "       [0.56431452],\n",
              "       [0.73983543],\n",
              "       [0.0430764 ],\n",
              "       [0.68787399]])"
            ]
          },
          "metadata": {},
          "execution_count": 14
        }
      ]
    },
    {
      "cell_type": "code",
      "source": [
        "a.T"
      ],
      "metadata": {
        "colab": {
          "base_uri": "https://localhost:8080/"
        },
        "id": "kMjah1DNssfj",
        "outputId": "336fbea4-d74b-45f5-a8b3-d56e7e0c0393"
      },
      "execution_count": 15,
      "outputs": [
        {
          "output_type": "execute_result",
          "data": {
            "text/plain": [
              "array([[0.79672126, 0.56431452, 0.73983543, 0.0430764 , 0.68787399]])"
            ]
          },
          "metadata": {},
          "execution_count": 15
        }
      ]
    },
    {
      "cell_type": "code",
      "source": [
        "b = np.random.random((5,5))"
      ],
      "metadata": {
        "id": "xADUpHycsmul"
      },
      "execution_count": 16,
      "outputs": []
    },
    {
      "cell_type": "code",
      "source": [
        "b.shape, a.shape"
      ],
      "metadata": {
        "colab": {
          "base_uri": "https://localhost:8080/"
        },
        "id": "hpTMfVLCsqpO",
        "outputId": "62650365-7468-4615-b0fe-33ac957336e4"
      },
      "execution_count": 17,
      "outputs": [
        {
          "output_type": "execute_result",
          "data": {
            "text/plain": [
              "((5, 5), (5, 1))"
            ]
          },
          "metadata": {},
          "execution_count": 17
        }
      ]
    },
    {
      "cell_type": "code",
      "source": [
        "b = np.random.random((2,5))"
      ],
      "metadata": {
        "id": "8RkN35G0s_qs"
      },
      "execution_count": 18,
      "outputs": []
    },
    {
      "cell_type": "code",
      "source": [
        "b@a"
      ],
      "metadata": {
        "colab": {
          "base_uri": "https://localhost:8080/"
        },
        "id": "-mo6B2-Qswob",
        "outputId": "e34874f0-f6e5-4ba4-ec72-15d8ec6d447e"
      },
      "execution_count": 19,
      "outputs": [
        {
          "output_type": "execute_result",
          "data": {
            "text/plain": [
              "array([[1.7491136 ],\n",
              "       [1.25266356]])"
            ]
          },
          "metadata": {},
          "execution_count": 19
        }
      ]
    },
    {
      "cell_type": "code",
      "source": [
        "b.shape, a.shape"
      ],
      "metadata": {
        "colab": {
          "base_uri": "https://localhost:8080/"
        },
        "id": "NnNWtEATs8WV",
        "outputId": "4e0f950b-1fbd-441b-a092-bdb62ec2c7c6"
      },
      "execution_count": 20,
      "outputs": [
        {
          "output_type": "execute_result",
          "data": {
            "text/plain": [
              "((2, 5), (5, 1))"
            ]
          },
          "metadata": {},
          "execution_count": 20
        }
      ]
    },
    {
      "cell_type": "code",
      "source": [
        "x = np.random.random((784, 1))"
      ],
      "metadata": {
        "id": "ZBC5i7YitGAh"
      },
      "execution_count": 21,
      "outputs": []
    },
    {
      "cell_type": "code",
      "source": [
        "x"
      ],
      "metadata": {
        "colab": {
          "base_uri": "https://localhost:8080/"
        },
        "id": "kyM_5rdCtJrv",
        "outputId": "cf30c730-91ea-4df5-a029-d625172278ff"
      },
      "execution_count": 22,
      "outputs": [
        {
          "output_type": "execute_result",
          "data": {
            "text/plain": [
              "array([[8.07948572e-01],\n",
              "       [2.30256082e-01],\n",
              "       [6.17495774e-01],\n",
              "       [3.69297361e-01],\n",
              "       [8.79841388e-02],\n",
              "       [3.37091123e-01],\n",
              "       [1.29273095e-01],\n",
              "       [5.89292589e-01],\n",
              "       [9.89815003e-01],\n",
              "       [5.88653313e-01],\n",
              "       [2.65790046e-01],\n",
              "       [5.97906175e-01],\n",
              "       [8.16011170e-01],\n",
              "       [5.47641462e-01],\n",
              "       [3.31816705e-01],\n",
              "       [2.83065837e-01],\n",
              "       [5.35582014e-01],\n",
              "       [4.51220524e-02],\n",
              "       [1.67385258e-01],\n",
              "       [5.44817517e-01],\n",
              "       [7.39321755e-01],\n",
              "       [8.88759256e-01],\n",
              "       [2.48193177e-01],\n",
              "       [9.50611740e-01],\n",
              "       [2.80107815e-01],\n",
              "       [3.85238211e-01],\n",
              "       [2.36568259e-01],\n",
              "       [9.67837378e-02],\n",
              "       [1.81215100e-01],\n",
              "       [9.36816066e-01],\n",
              "       [4.43041380e-01],\n",
              "       [7.58215338e-01],\n",
              "       [4.21070735e-01],\n",
              "       [6.86633263e-01],\n",
              "       [8.28711482e-01],\n",
              "       [1.76659194e-01],\n",
              "       [3.39241415e-01],\n",
              "       [9.57224001e-01],\n",
              "       [8.32794387e-02],\n",
              "       [3.48141153e-01],\n",
              "       [9.27285907e-01],\n",
              "       [5.66591740e-01],\n",
              "       [6.35274036e-01],\n",
              "       [8.74257612e-01],\n",
              "       [8.67383034e-01],\n",
              "       [6.34994878e-01],\n",
              "       [9.22107532e-01],\n",
              "       [7.17547313e-01],\n",
              "       [9.01975434e-02],\n",
              "       [8.74841857e-01],\n",
              "       [5.82578647e-01],\n",
              "       [9.72918323e-01],\n",
              "       [3.71228122e-01],\n",
              "       [6.66921079e-01],\n",
              "       [7.11670914e-01],\n",
              "       [9.42004625e-02],\n",
              "       [1.19452763e-01],\n",
              "       [4.63421220e-01],\n",
              "       [1.77181292e-01],\n",
              "       [9.28254387e-01],\n",
              "       [8.28164333e-01],\n",
              "       [7.39110776e-01],\n",
              "       [2.01417951e-01],\n",
              "       [2.07971045e-01],\n",
              "       [3.69726216e-01],\n",
              "       [1.20690874e-01],\n",
              "       [7.74603520e-01],\n",
              "       [1.31473768e-01],\n",
              "       [6.66523777e-01],\n",
              "       [9.97223135e-01],\n",
              "       [6.85092975e-01],\n",
              "       [2.60975933e-02],\n",
              "       [1.07622807e-01],\n",
              "       [1.89844480e-01],\n",
              "       [5.71036143e-01],\n",
              "       [4.47644678e-02],\n",
              "       [6.53186752e-01],\n",
              "       [6.51547269e-01],\n",
              "       [2.74400155e-01],\n",
              "       [7.61826708e-01],\n",
              "       [3.21134303e-01],\n",
              "       [9.77222738e-01],\n",
              "       [1.31290623e-01],\n",
              "       [3.95744281e-01],\n",
              "       [4.57677383e-01],\n",
              "       [1.73285731e-01],\n",
              "       [3.58396232e-01],\n",
              "       [9.05432989e-01],\n",
              "       [1.00122184e-01],\n",
              "       [9.55948558e-02],\n",
              "       [8.71406865e-01],\n",
              "       [9.21702269e-01],\n",
              "       [7.41042353e-01],\n",
              "       [8.56498913e-01],\n",
              "       [4.92334545e-01],\n",
              "       [3.35815315e-01],\n",
              "       [9.50867476e-01],\n",
              "       [1.31948004e-01],\n",
              "       [3.37092516e-01],\n",
              "       [9.49252920e-01],\n",
              "       [2.96387254e-01],\n",
              "       [4.89665761e-01],\n",
              "       [8.73130476e-01],\n",
              "       [1.39642223e-01],\n",
              "       [4.92491611e-01],\n",
              "       [2.58524353e-01],\n",
              "       [5.88511291e-01],\n",
              "       [5.15416496e-01],\n",
              "       [3.88948299e-01],\n",
              "       [6.87679936e-02],\n",
              "       [5.73348593e-01],\n",
              "       [3.43263269e-01],\n",
              "       [1.85244198e-01],\n",
              "       [9.88858846e-01],\n",
              "       [5.25920111e-02],\n",
              "       [2.70148516e-01],\n",
              "       [1.46456463e-01],\n",
              "       [5.89215920e-01],\n",
              "       [6.54377430e-01],\n",
              "       [1.73251999e-01],\n",
              "       [9.40796455e-02],\n",
              "       [4.68360214e-01],\n",
              "       [4.58567464e-01],\n",
              "       [5.91633456e-01],\n",
              "       [9.51112244e-01],\n",
              "       [6.55325424e-02],\n",
              "       [2.91058199e-01],\n",
              "       [6.24934135e-01],\n",
              "       [1.32363570e-01],\n",
              "       [6.80192616e-01],\n",
              "       [8.25562354e-01],\n",
              "       [1.24543217e-01],\n",
              "       [9.47238611e-01],\n",
              "       [5.07945257e-01],\n",
              "       [7.45771965e-01],\n",
              "       [1.05898873e-01],\n",
              "       [7.21153214e-01],\n",
              "       [2.06721489e-02],\n",
              "       [2.48433218e-01],\n",
              "       [4.68606254e-02],\n",
              "       [5.08514719e-01],\n",
              "       [9.88491397e-02],\n",
              "       [3.41269009e-01],\n",
              "       [2.08290158e-02],\n",
              "       [1.44106510e-01],\n",
              "       [6.14700236e-01],\n",
              "       [9.87438843e-01],\n",
              "       [4.38229804e-02],\n",
              "       [4.12167652e-02],\n",
              "       [6.09985826e-01],\n",
              "       [9.30850802e-01],\n",
              "       [6.69645582e-01],\n",
              "       [2.69526610e-01],\n",
              "       [2.70630289e-01],\n",
              "       [8.08539513e-01],\n",
              "       [8.67077399e-01],\n",
              "       [4.44874308e-01],\n",
              "       [6.29043048e-01],\n",
              "       [6.95295550e-01],\n",
              "       [2.74902172e-01],\n",
              "       [4.25095294e-01],\n",
              "       [4.09302188e-01],\n",
              "       [4.25358478e-01],\n",
              "       [7.63741711e-01],\n",
              "       [1.09981019e-01],\n",
              "       [3.83369397e-01],\n",
              "       [7.87362916e-01],\n",
              "       [2.01856306e-01],\n",
              "       [3.21620120e-03],\n",
              "       [3.27414438e-01],\n",
              "       [4.36831540e-03],\n",
              "       [6.70980778e-01],\n",
              "       [4.49181294e-01],\n",
              "       [9.59742320e-01],\n",
              "       [7.66411723e-01],\n",
              "       [4.52097621e-01],\n",
              "       [3.83099100e-01],\n",
              "       [3.12401383e-01],\n",
              "       [2.85393827e-02],\n",
              "       [3.73459130e-01],\n",
              "       [5.75656173e-01],\n",
              "       [3.12087186e-01],\n",
              "       [8.46858071e-01],\n",
              "       [2.21329782e-02],\n",
              "       [5.44307821e-01],\n",
              "       [8.81867522e-01],\n",
              "       [1.15841352e-01],\n",
              "       [5.56492829e-01],\n",
              "       [6.46889478e-01],\n",
              "       [8.98407400e-01],\n",
              "       [9.93169118e-01],\n",
              "       [7.99456919e-01],\n",
              "       [2.62119967e-01],\n",
              "       [6.24715725e-01],\n",
              "       [7.89069805e-01],\n",
              "       [9.13810939e-02],\n",
              "       [3.96481685e-01],\n",
              "       [9.90859678e-01],\n",
              "       [3.08550695e-02],\n",
              "       [8.52229316e-01],\n",
              "       [7.72918102e-01],\n",
              "       [4.94732401e-01],\n",
              "       [3.73832620e-02],\n",
              "       [1.65804751e-01],\n",
              "       [3.03166988e-01],\n",
              "       [4.23401966e-01],\n",
              "       [4.55421643e-01],\n",
              "       [9.26419425e-01],\n",
              "       [3.84668553e-01],\n",
              "       [8.47045534e-01],\n",
              "       [7.43618328e-01],\n",
              "       [1.40874465e-01],\n",
              "       [7.47155239e-01],\n",
              "       [2.29557104e-01],\n",
              "       [5.74074732e-01],\n",
              "       [4.05828347e-01],\n",
              "       [1.76709288e-01],\n",
              "       [6.59247205e-01],\n",
              "       [7.34406454e-01],\n",
              "       [7.10227127e-01],\n",
              "       [1.96492225e-01],\n",
              "       [4.35170130e-01],\n",
              "       [7.49185498e-01],\n",
              "       [5.75904967e-01],\n",
              "       [3.63163094e-01],\n",
              "       [6.94752418e-01],\n",
              "       [3.75396409e-01],\n",
              "       [3.95901515e-01],\n",
              "       [7.44152516e-01],\n",
              "       [5.20558050e-01],\n",
              "       [4.68394233e-02],\n",
              "       [1.87783609e-01],\n",
              "       [5.94781090e-01],\n",
              "       [9.68258179e-02],\n",
              "       [5.51082586e-01],\n",
              "       [2.97547383e-01],\n",
              "       [9.11591407e-01],\n",
              "       [8.73682991e-01],\n",
              "       [4.49526059e-01],\n",
              "       [3.37951044e-01],\n",
              "       [4.49856451e-01],\n",
              "       [3.82152231e-01],\n",
              "       [4.12397935e-01],\n",
              "       [4.21972685e-01],\n",
              "       [7.99781042e-01],\n",
              "       [1.57540702e-01],\n",
              "       [9.05439965e-01],\n",
              "       [3.50304058e-01],\n",
              "       [1.63754711e-02],\n",
              "       [1.25824699e-01],\n",
              "       [1.91622350e-01],\n",
              "       [7.05696947e-01],\n",
              "       [6.77066004e-02],\n",
              "       [2.43808981e-01],\n",
              "       [1.10007329e-01],\n",
              "       [6.15397842e-01],\n",
              "       [6.66249559e-01],\n",
              "       [5.91580087e-01],\n",
              "       [8.45122296e-01],\n",
              "       [8.05105677e-01],\n",
              "       [5.63600474e-01],\n",
              "       [9.05099508e-01],\n",
              "       [5.90096748e-02],\n",
              "       [6.80263011e-01],\n",
              "       [5.99985019e-01],\n",
              "       [2.97007651e-01],\n",
              "       [3.79061291e-01],\n",
              "       [6.49545942e-01],\n",
              "       [7.59702441e-01],\n",
              "       [1.03950667e-01],\n",
              "       [5.78646902e-01],\n",
              "       [6.99948237e-01],\n",
              "       [5.70758888e-02],\n",
              "       [7.30746145e-01],\n",
              "       [9.89179902e-01],\n",
              "       [2.74030381e-01],\n",
              "       [7.74772777e-01],\n",
              "       [4.46785322e-01],\n",
              "       [1.79536501e-01],\n",
              "       [8.36045885e-02],\n",
              "       [1.14930364e-01],\n",
              "       [3.33417506e-01],\n",
              "       [5.36917223e-01],\n",
              "       [5.09747298e-01],\n",
              "       [6.13386661e-01],\n",
              "       [3.97519354e-01],\n",
              "       [4.69727549e-02],\n",
              "       [3.82161275e-02],\n",
              "       [8.12229306e-01],\n",
              "       [7.33582676e-01],\n",
              "       [2.48414462e-03],\n",
              "       [8.22847049e-02],\n",
              "       [6.57308108e-01],\n",
              "       [6.67645253e-01],\n",
              "       [7.57907804e-01],\n",
              "       [3.70270341e-01],\n",
              "       [3.81739771e-01],\n",
              "       [1.70630747e-01],\n",
              "       [3.46319035e-01],\n",
              "       [8.19168034e-01],\n",
              "       [9.86390034e-01],\n",
              "       [3.74346640e-01],\n",
              "       [8.59178167e-01],\n",
              "       [5.74674489e-01],\n",
              "       [9.75214758e-01],\n",
              "       [9.73036267e-01],\n",
              "       [2.60932794e-01],\n",
              "       [2.97093294e-01],\n",
              "       [9.27029951e-01],\n",
              "       [4.97552622e-01],\n",
              "       [1.65617411e-01],\n",
              "       [4.17679925e-01],\n",
              "       [8.98528361e-02],\n",
              "       [7.39559034e-01],\n",
              "       [6.74694203e-01],\n",
              "       [9.36088198e-01],\n",
              "       [5.78743778e-01],\n",
              "       [3.02778165e-02],\n",
              "       [4.44385925e-01],\n",
              "       [1.36687905e-01],\n",
              "       [8.01220361e-01],\n",
              "       [2.73789758e-01],\n",
              "       [2.29212512e-01],\n",
              "       [2.45012535e-01],\n",
              "       [6.16643094e-01],\n",
              "       [7.83701565e-01],\n",
              "       [7.97069161e-01],\n",
              "       [7.55968108e-01],\n",
              "       [6.48886173e-01],\n",
              "       [6.44927973e-02],\n",
              "       [6.49031838e-01],\n",
              "       [6.20531607e-01],\n",
              "       [4.11739028e-01],\n",
              "       [6.65271973e-01],\n",
              "       [1.08172694e-01],\n",
              "       [2.28621557e-01],\n",
              "       [5.55792488e-01],\n",
              "       [2.30144253e-01],\n",
              "       [3.09290933e-01],\n",
              "       [8.11704023e-01],\n",
              "       [7.56380865e-01],\n",
              "       [3.64266091e-02],\n",
              "       [4.62021967e-01],\n",
              "       [7.85765616e-01],\n",
              "       [9.55842146e-01],\n",
              "       [7.09079941e-01],\n",
              "       [9.09967826e-01],\n",
              "       [3.85725000e-02],\n",
              "       [8.71442667e-01],\n",
              "       [1.86288743e-01],\n",
              "       [2.96278724e-01],\n",
              "       [6.27360443e-01],\n",
              "       [8.26102634e-01],\n",
              "       [4.32457362e-01],\n",
              "       [5.21881507e-01],\n",
              "       [5.70355646e-01],\n",
              "       [5.12149810e-01],\n",
              "       [5.92809435e-01],\n",
              "       [6.59227559e-01],\n",
              "       [9.95191502e-01],\n",
              "       [7.62884658e-01],\n",
              "       [7.85709401e-01],\n",
              "       [5.88490872e-01],\n",
              "       [8.20061333e-01],\n",
              "       [8.74158206e-01],\n",
              "       [3.39743560e-02],\n",
              "       [8.93657226e-02],\n",
              "       [5.61029986e-01],\n",
              "       [5.80381224e-01],\n",
              "       [2.48516623e-01],\n",
              "       [8.90220294e-01],\n",
              "       [9.29861828e-01],\n",
              "       [8.59850602e-01],\n",
              "       [2.70405221e-01],\n",
              "       [8.00036431e-01],\n",
              "       [1.42563592e-01],\n",
              "       [9.40843410e-01],\n",
              "       [1.57523713e-01],\n",
              "       [3.17709295e-01],\n",
              "       [1.30101868e-01],\n",
              "       [8.81028058e-01],\n",
              "       [5.79927606e-01],\n",
              "       [2.86376839e-01],\n",
              "       [3.81393190e-01],\n",
              "       [9.41140157e-01],\n",
              "       [4.59037813e-01],\n",
              "       [7.89259355e-01],\n",
              "       [3.92875744e-01],\n",
              "       [2.81476524e-01],\n",
              "       [7.73606729e-01],\n",
              "       [8.36765557e-01],\n",
              "       [7.12091535e-02],\n",
              "       [8.49360993e-01],\n",
              "       [5.35956889e-01],\n",
              "       [3.95814349e-01],\n",
              "       [9.94875835e-01],\n",
              "       [8.96771005e-01],\n",
              "       [7.33961097e-01],\n",
              "       [5.94679207e-02],\n",
              "       [3.68458334e-01],\n",
              "       [5.61137397e-01],\n",
              "       [2.30720466e-01],\n",
              "       [5.60531963e-01],\n",
              "       [6.84379901e-01],\n",
              "       [5.00187376e-01],\n",
              "       [3.01192504e-01],\n",
              "       [4.40651207e-01],\n",
              "       [3.71121491e-01],\n",
              "       [3.16709671e-01],\n",
              "       [5.48647541e-01],\n",
              "       [9.49368645e-01],\n",
              "       [3.64516562e-01],\n",
              "       [9.29756259e-01],\n",
              "       [2.75434422e-01],\n",
              "       [4.05742057e-01],\n",
              "       [6.67521400e-03],\n",
              "       [3.85875404e-01],\n",
              "       [2.46986253e-02],\n",
              "       [8.63828373e-01],\n",
              "       [1.24005943e-01],\n",
              "       [5.03390637e-01],\n",
              "       [5.32950832e-01],\n",
              "       [3.22511889e-01],\n",
              "       [7.52432465e-01],\n",
              "       [2.49618839e-01],\n",
              "       [6.81935503e-01],\n",
              "       [1.73121447e-01],\n",
              "       [1.41678255e-01],\n",
              "       [1.12232337e-01],\n",
              "       [2.57597264e-03],\n",
              "       [8.93004235e-01],\n",
              "       [4.34140303e-01],\n",
              "       [8.96756764e-01],\n",
              "       [3.63021594e-01],\n",
              "       [3.42910906e-01],\n",
              "       [9.50688017e-01],\n",
              "       [4.68019684e-01],\n",
              "       [2.76082011e-01],\n",
              "       [1.42553116e-01],\n",
              "       [3.93468030e-01],\n",
              "       [8.56495596e-01],\n",
              "       [3.58638515e-01],\n",
              "       [4.05394282e-01],\n",
              "       [3.11032956e-01],\n",
              "       [2.11434397e-01],\n",
              "       [2.05922709e-02],\n",
              "       [8.23342420e-01],\n",
              "       [5.01579196e-01],\n",
              "       [8.32461674e-01],\n",
              "       [3.87795197e-01],\n",
              "       [1.19677453e-01],\n",
              "       [3.25552335e-01],\n",
              "       [3.62822622e-01],\n",
              "       [5.18742663e-01],\n",
              "       [7.75734936e-01],\n",
              "       [4.59539310e-01],\n",
              "       [1.96540125e-01],\n",
              "       [4.36887503e-02],\n",
              "       [2.99921135e-01],\n",
              "       [9.56670447e-01],\n",
              "       [3.52079265e-02],\n",
              "       [4.81497440e-01],\n",
              "       [9.56131385e-01],\n",
              "       [8.67890366e-01],\n",
              "       [4.50271719e-01],\n",
              "       [3.22454901e-01],\n",
              "       [7.87323914e-01],\n",
              "       [1.22762565e-02],\n",
              "       [8.04149842e-02],\n",
              "       [5.93803449e-01],\n",
              "       [4.41624699e-01],\n",
              "       [3.46441651e-01],\n",
              "       [1.64327437e-02],\n",
              "       [8.43504606e-01],\n",
              "       [9.45862464e-01],\n",
              "       [2.17690716e-01],\n",
              "       [2.68689923e-01],\n",
              "       [8.69828496e-02],\n",
              "       [3.86077551e-01],\n",
              "       [2.55059412e-01],\n",
              "       [1.28527965e-02],\n",
              "       [5.04656674e-01],\n",
              "       [7.38968943e-01],\n",
              "       [7.62472664e-01],\n",
              "       [8.81680858e-01],\n",
              "       [3.14865891e-01],\n",
              "       [9.13569076e-01],\n",
              "       [9.35785355e-01],\n",
              "       [7.09356392e-01],\n",
              "       [9.54675499e-02],\n",
              "       [7.96028749e-01],\n",
              "       [3.53931808e-01],\n",
              "       [5.30493825e-01],\n",
              "       [3.19473896e-01],\n",
              "       [3.56093999e-01],\n",
              "       [8.28398758e-01],\n",
              "       [6.55091982e-01],\n",
              "       [5.51897234e-01],\n",
              "       [8.05754572e-01],\n",
              "       [2.18522953e-01],\n",
              "       [1.81843704e-01],\n",
              "       [6.86436925e-01],\n",
              "       [2.01923517e-01],\n",
              "       [7.96444797e-01],\n",
              "       [8.95330714e-01],\n",
              "       [3.46617332e-02],\n",
              "       [7.49601522e-01],\n",
              "       [5.83769078e-01],\n",
              "       [4.71952326e-01],\n",
              "       [9.14115199e-01],\n",
              "       [5.41513837e-01],\n",
              "       [8.08836797e-01],\n",
              "       [6.32573795e-01],\n",
              "       [2.38409841e-02],\n",
              "       [2.60662881e-01],\n",
              "       [1.93334863e-01],\n",
              "       [6.39777403e-01],\n",
              "       [2.93455003e-01],\n",
              "       [6.22424184e-01],\n",
              "       [1.30236413e-01],\n",
              "       [8.47272818e-01],\n",
              "       [4.78423468e-01],\n",
              "       [5.61236100e-01],\n",
              "       [5.20605412e-01],\n",
              "       [2.23968256e-01],\n",
              "       [3.76884223e-01],\n",
              "       [4.28897303e-01],\n",
              "       [5.70088429e-01],\n",
              "       [8.02815132e-01],\n",
              "       [3.10602178e-01],\n",
              "       [4.70512718e-01],\n",
              "       [4.73978633e-01],\n",
              "       [9.25350379e-01],\n",
              "       [7.37668972e-01],\n",
              "       [4.68507908e-01],\n",
              "       [5.40181718e-01],\n",
              "       [9.97143999e-01],\n",
              "       [6.57464884e-01],\n",
              "       [2.66413940e-01],\n",
              "       [1.07439991e-01],\n",
              "       [5.02820605e-01],\n",
              "       [6.81362798e-01],\n",
              "       [5.58722364e-02],\n",
              "       [2.13275633e-01],\n",
              "       [4.27208616e-02],\n",
              "       [8.72658268e-02],\n",
              "       [1.23276364e-01],\n",
              "       [5.51196030e-01],\n",
              "       [7.45531340e-01],\n",
              "       [2.35470880e-02],\n",
              "       [6.84770467e-01],\n",
              "       [7.15417240e-01],\n",
              "       [3.90818611e-01],\n",
              "       [4.97489038e-01],\n",
              "       [8.05592040e-01],\n",
              "       [1.29405231e-01],\n",
              "       [1.58775601e-01],\n",
              "       [4.31144774e-01],\n",
              "       [7.72202957e-01],\n",
              "       [5.93609837e-01],\n",
              "       [8.64502647e-01],\n",
              "       [6.09854324e-01],\n",
              "       [5.73440862e-01],\n",
              "       [8.55752767e-01],\n",
              "       [1.77274955e-01],\n",
              "       [8.97874290e-01],\n",
              "       [6.99921123e-01],\n",
              "       [5.79901131e-02],\n",
              "       [4.81547041e-01],\n",
              "       [5.48986657e-01],\n",
              "       [9.05757233e-01],\n",
              "       [4.85710047e-01],\n",
              "       [4.81762187e-01],\n",
              "       [4.19812060e-01],\n",
              "       [4.19047900e-01],\n",
              "       [2.29955155e-01],\n",
              "       [9.70632178e-01],\n",
              "       [7.05198706e-01],\n",
              "       [2.25281531e-01],\n",
              "       [9.96206127e-01],\n",
              "       [5.33590243e-02],\n",
              "       [2.00025361e-01],\n",
              "       [5.44598666e-01],\n",
              "       [1.19368381e-01],\n",
              "       [4.78794421e-01],\n",
              "       [5.30373906e-01],\n",
              "       [2.01469018e-01],\n",
              "       [9.59332444e-01],\n",
              "       [2.10884023e-01],\n",
              "       [1.38409833e-01],\n",
              "       [5.96906190e-01],\n",
              "       [2.02695672e-01],\n",
              "       [6.64979440e-01],\n",
              "       [8.44207668e-01],\n",
              "       [6.15471497e-01],\n",
              "       [6.34064616e-01],\n",
              "       [7.69292916e-01],\n",
              "       [5.42386480e-01],\n",
              "       [2.39889048e-02],\n",
              "       [4.73858262e-04],\n",
              "       [6.37373572e-01],\n",
              "       [9.69866011e-01],\n",
              "       [7.72556394e-01],\n",
              "       [4.24188832e-01],\n",
              "       [3.73105431e-01],\n",
              "       [3.74809962e-01],\n",
              "       [3.92251620e-01],\n",
              "       [2.28123857e-01],\n",
              "       [4.70611573e-02],\n",
              "       [2.42250728e-01],\n",
              "       [7.08465467e-01],\n",
              "       [3.55318806e-01],\n",
              "       [7.54428800e-02],\n",
              "       [3.72637313e-01],\n",
              "       [9.83452131e-01],\n",
              "       [3.88275006e-01],\n",
              "       [2.04869226e-01],\n",
              "       [6.19570003e-01],\n",
              "       [5.60690873e-01],\n",
              "       [2.33652827e-01],\n",
              "       [1.77174844e-02],\n",
              "       [6.91131191e-02],\n",
              "       [3.02167555e-01],\n",
              "       [1.56171318e-01],\n",
              "       [4.75986332e-01],\n",
              "       [5.79826155e-01],\n",
              "       [9.02929696e-01],\n",
              "       [8.12826183e-01],\n",
              "       [8.83521221e-01],\n",
              "       [6.61252320e-01],\n",
              "       [7.68936400e-02],\n",
              "       [3.37284518e-01],\n",
              "       [4.42518354e-02],\n",
              "       [9.19235692e-01],\n",
              "       [8.34334285e-01],\n",
              "       [7.28082423e-01],\n",
              "       [3.23407491e-01],\n",
              "       [5.82667361e-01],\n",
              "       [2.17327016e-01],\n",
              "       [4.39750804e-01],\n",
              "       [5.24122494e-01],\n",
              "       [8.99595640e-01],\n",
              "       [1.79812504e-01],\n",
              "       [7.75731700e-01],\n",
              "       [1.98384021e-01],\n",
              "       [3.49018757e-01],\n",
              "       [6.46376653e-01],\n",
              "       [6.80193429e-01],\n",
              "       [4.50796793e-01],\n",
              "       [3.68499927e-01],\n",
              "       [8.02742541e-01],\n",
              "       [5.70472716e-01],\n",
              "       [9.74175391e-01],\n",
              "       [6.92644022e-01],\n",
              "       [5.52199257e-01],\n",
              "       [1.73571362e-02],\n",
              "       [5.30051170e-01],\n",
              "       [7.58241933e-01],\n",
              "       [7.37718664e-02],\n",
              "       [8.85082117e-01],\n",
              "       [8.87224564e-01],\n",
              "       [7.81723943e-01],\n",
              "       [1.11226319e-01],\n",
              "       [3.88772499e-01],\n",
              "       [9.94459233e-01],\n",
              "       [2.00390847e-01],\n",
              "       [3.72223320e-01],\n",
              "       [5.35704007e-01],\n",
              "       [5.80090816e-01],\n",
              "       [7.58145275e-01],\n",
              "       [7.01548236e-01],\n",
              "       [9.41111586e-01],\n",
              "       [5.52597796e-01],\n",
              "       [3.29292309e-01],\n",
              "       [1.92864676e-01],\n",
              "       [8.20187827e-01],\n",
              "       [1.23704082e-01],\n",
              "       [2.68706592e-01],\n",
              "       [1.06572574e-01],\n",
              "       [6.11435381e-01],\n",
              "       [1.40083478e-01],\n",
              "       [9.43964128e-01],\n",
              "       [9.43155516e-01],\n",
              "       [8.54095308e-01],\n",
              "       [1.14107180e-01],\n",
              "       [8.59272738e-01],\n",
              "       [4.56879831e-01],\n",
              "       [6.20527876e-03],\n",
              "       [3.70629333e-01],\n",
              "       [8.83320089e-01],\n",
              "       [7.42974924e-01],\n",
              "       [1.94661216e-01],\n",
              "       [2.66383585e-01],\n",
              "       [3.56414029e-01],\n",
              "       [5.28842819e-01],\n",
              "       [1.31702601e-01],\n",
              "       [8.09030817e-01],\n",
              "       [6.87383721e-01],\n",
              "       [6.15625780e-01],\n",
              "       [9.70643739e-01],\n",
              "       [7.45156368e-01],\n",
              "       [7.87116008e-02],\n",
              "       [4.97155610e-01],\n",
              "       [9.61553237e-01],\n",
              "       [5.24421585e-02],\n",
              "       [4.63954559e-01],\n",
              "       [6.88247153e-01],\n",
              "       [5.51757942e-02],\n",
              "       [6.91084235e-01],\n",
              "       [1.95149903e-01],\n",
              "       [5.91479174e-01],\n",
              "       [4.76674356e-01],\n",
              "       [9.56505161e-01],\n",
              "       [3.94096295e-01],\n",
              "       [4.62472934e-01],\n",
              "       [2.89537740e-01],\n",
              "       [9.35985859e-01],\n",
              "       [5.79645814e-01],\n",
              "       [4.38998522e-01],\n",
              "       [4.37863320e-01],\n",
              "       [3.54043238e-01],\n",
              "       [2.15145639e-01],\n",
              "       [4.42424962e-01],\n",
              "       [7.88667586e-01],\n",
              "       [2.79235356e-02],\n",
              "       [7.74703119e-01],\n",
              "       [2.83969652e-01],\n",
              "       [2.52086613e-01],\n",
              "       [2.92279875e-01],\n",
              "       [2.48220459e-01],\n",
              "       [3.65866043e-04],\n",
              "       [5.20159291e-01],\n",
              "       [8.94162246e-01],\n",
              "       [4.64283154e-02],\n",
              "       [7.32515580e-01],\n",
              "       [4.92410005e-01],\n",
              "       [1.68245880e-01],\n",
              "       [7.68322544e-01],\n",
              "       [5.79459173e-01],\n",
              "       [8.35469768e-01],\n",
              "       [4.87435469e-01],\n",
              "       [9.12501369e-01],\n",
              "       [7.45964458e-01],\n",
              "       [9.98513835e-01],\n",
              "       [3.72849320e-02],\n",
              "       [5.16366457e-01],\n",
              "       [9.07288590e-01],\n",
              "       [4.78908322e-01],\n",
              "       [1.70380898e-01],\n",
              "       [6.84125471e-01],\n",
              "       [9.90524460e-01],\n",
              "       [5.12457253e-01],\n",
              "       [9.03766462e-02],\n",
              "       [7.35887216e-01],\n",
              "       [7.97867756e-01],\n",
              "       [6.41340180e-01],\n",
              "       [8.26571804e-03],\n",
              "       [6.78311124e-01],\n",
              "       [1.88971338e-01],\n",
              "       [1.24849567e-01],\n",
              "       [5.00875657e-03],\n",
              "       [4.58604997e-01],\n",
              "       [9.51032567e-01],\n",
              "       [5.95822063e-01],\n",
              "       [5.35725278e-01],\n",
              "       [2.44631643e-01],\n",
              "       [7.02569066e-01],\n",
              "       [7.42646229e-01],\n",
              "       [6.66213914e-01],\n",
              "       [8.71946348e-01],\n",
              "       [4.62327302e-01],\n",
              "       [1.16890722e-01],\n",
              "       [4.01219788e-01],\n",
              "       [3.64696544e-01],\n",
              "       [2.55660716e-01],\n",
              "       [6.65979316e-01],\n",
              "       [6.11261111e-01],\n",
              "       [8.59104667e-01],\n",
              "       [1.79490786e-01],\n",
              "       [9.83540878e-01],\n",
              "       [4.65729057e-01],\n",
              "       [8.32457153e-01],\n",
              "       [2.61864846e-01],\n",
              "       [2.43905203e-01]])"
            ]
          },
          "metadata": {},
          "execution_count": 22
        }
      ]
    },
    {
      "cell_type": "code",
      "source": [
        "m = np.random.random((10,784))"
      ],
      "metadata": {
        "id": "q4dZcqpxtKpK"
      },
      "execution_count": 23,
      "outputs": []
    },
    {
      "cell_type": "code",
      "source": [
        "m@x"
      ],
      "metadata": {
        "colab": {
          "base_uri": "https://localhost:8080/"
        },
        "id": "OElqEIxStWil",
        "outputId": "4d102a6b-5f4f-4780-c6e7-ac2a2a347c2b"
      },
      "execution_count": 24,
      "outputs": [
        {
          "output_type": "execute_result",
          "data": {
            "text/plain": [
              "array([[188.42961962],\n",
              "       [188.91721067],\n",
              "       [198.24987916],\n",
              "       [191.8011578 ],\n",
              "       [194.94343359],\n",
              "       [188.66090612],\n",
              "       [192.44820349],\n",
              "       [190.95474387],\n",
              "       [193.0026267 ],\n",
              "       [194.52641859]])"
            ]
          },
          "metadata": {},
          "execution_count": 24
        }
      ]
    },
    {
      "cell_type": "code",
      "source": [
        "y = m@x"
      ],
      "metadata": {
        "id": "ICmEhBHstY1T"
      },
      "execution_count": 25,
      "outputs": []
    },
    {
      "cell_type": "code",
      "source": [
        "y.shape"
      ],
      "metadata": {
        "colab": {
          "base_uri": "https://localhost:8080/"
        },
        "id": "lU3XI3BJtbKw",
        "outputId": "012f2ccb-78bb-4efc-e506-97e755e4f719"
      },
      "execution_count": 26,
      "outputs": [
        {
          "output_type": "execute_result",
          "data": {
            "text/plain": [
              "(10, 1)"
            ]
          },
          "metadata": {},
          "execution_count": 26
        }
      ]
    },
    {
      "cell_type": "code",
      "source": [
        "m.shape, x.shape"
      ],
      "metadata": {
        "colab": {
          "base_uri": "https://localhost:8080/"
        },
        "id": "bzFyh0rZtcNw",
        "outputId": "d6988a8d-e6ea-45c8-bd0c-068dea7155c9"
      },
      "execution_count": 27,
      "outputs": [
        {
          "output_type": "execute_result",
          "data": {
            "text/plain": [
              "((10, 784), (784, 1))"
            ]
          },
          "metadata": {},
          "execution_count": 27
        }
      ]
    },
    {
      "cell_type": "code",
      "source": [
        "np.max(y)"
      ],
      "metadata": {
        "colab": {
          "base_uri": "https://localhost:8080/"
        },
        "id": "ZezJLIKXtnJk",
        "outputId": "1f23da9d-1fae-4273-99af-acbee138859a"
      },
      "execution_count": 28,
      "outputs": [
        {
          "output_type": "execute_result",
          "data": {
            "text/plain": [
              "198.2498791596974"
            ]
          },
          "metadata": {},
          "execution_count": 28
        }
      ]
    },
    {
      "cell_type": "code",
      "source": [
        "np.argmax(y)"
      ],
      "metadata": {
        "colab": {
          "base_uri": "https://localhost:8080/"
        },
        "id": "-JQPHszPtyzc",
        "outputId": "f586593a-6224-4558-dfce-b071166c594c"
      },
      "execution_count": 29,
      "outputs": [
        {
          "output_type": "execute_result",
          "data": {
            "text/plain": [
              "2"
            ]
          },
          "metadata": {},
          "execution_count": 29
        }
      ]
    },
    {
      "cell_type": "code",
      "source": [
        "X.shape[0]"
      ],
      "metadata": {
        "colab": {
          "base_uri": "https://localhost:8080/"
        },
        "id": "bWyemq6ruRZ8",
        "outputId": "0c4760be-d11c-485f-a906-e70c43892802"
      },
      "execution_count": 30,
      "outputs": [
        {
          "output_type": "execute_result",
          "data": {
            "text/plain": [
              "60000"
            ]
          },
          "metadata": {},
          "execution_count": 30
        }
      ]
    },
    {
      "cell_type": "code",
      "source": [
        "X=X.reshape(X.shape[0], X.shape[2]*X.shape[3])"
      ],
      "metadata": {
        "id": "YzgvHJtIuRVv"
      },
      "execution_count": 31,
      "outputs": []
    },
    {
      "cell_type": "code",
      "source": [
        "X.shape"
      ],
      "metadata": {
        "colab": {
          "base_uri": "https://localhost:8080/"
        },
        "id": "Z-S-Gz0XuRSq",
        "outputId": "c6bf7a9b-e33f-4586-bf4c-a8a45f6670d0"
      },
      "execution_count": 32,
      "outputs": [
        {
          "output_type": "execute_result",
          "data": {
            "text/plain": [
              "(60000, 784)"
            ]
          },
          "metadata": {},
          "execution_count": 32
        }
      ]
    },
    {
      "cell_type": "code",
      "source": [
        "X= X.T"
      ],
      "metadata": {
        "id": "3b7DB-h6upjV"
      },
      "execution_count": 33,
      "outputs": []
    },
    {
      "cell_type": "code",
      "source": [
        "m = np.random.standard_normal((10,784))"
      ],
      "metadata": {
        "id": "hq5oiGf3u7SK"
      },
      "execution_count": 34,
      "outputs": []
    },
    {
      "cell_type": "code",
      "source": [
        "m.shape,X.shape"
      ],
      "metadata": {
        "colab": {
          "base_uri": "https://localhost:8080/"
        },
        "id": "L6kc4NJOu9Vs",
        "outputId": "0b7462a2-5b0f-4dcd-f456-1810e117d103"
      },
      "execution_count": 35,
      "outputs": [
        {
          "output_type": "execute_result",
          "data": {
            "text/plain": [
              "((10, 784), (784, 60000))"
            ]
          },
          "metadata": {},
          "execution_count": 35
        }
      ]
    },
    {
      "cell_type": "code",
      "source": [
        "X.shape"
      ],
      "metadata": {
        "colab": {
          "base_uri": "https://localhost:8080/"
        },
        "id": "HLXGLX2eupeN",
        "outputId": "b9434508-1ffb-42f8-cd2a-0fba547650fe"
      },
      "execution_count": 36,
      "outputs": [
        {
          "output_type": "execute_result",
          "data": {
            "text/plain": [
              "(784, 60000)"
            ]
          },
          "metadata": {},
          "execution_count": 36
        }
      ]
    },
    {
      "cell_type": "code",
      "source": [
        "y =m@X"
      ],
      "metadata": {
        "id": "vj2Bu-sSvFAG"
      },
      "execution_count": 37,
      "outputs": []
    },
    {
      "cell_type": "code",
      "source": [
        "y.shape"
      ],
      "metadata": {
        "colab": {
          "base_uri": "https://localhost:8080/"
        },
        "id": "M1gh3XS1vE3y",
        "outputId": "4a720a8b-ea65-4bf5-bac0-a24cae08fd75"
      },
      "execution_count": 38,
      "outputs": [
        {
          "output_type": "execute_result",
          "data": {
            "text/plain": [
              "(10, 60000)"
            ]
          },
          "metadata": {},
          "execution_count": 38
        }
      ]
    },
    {
      "cell_type": "code",
      "source": [
        "y = np.argmax(y, axis=0)"
      ],
      "metadata": {
        "id": "pNMbrulSvRN9"
      },
      "execution_count": 39,
      "outputs": []
    },
    {
      "cell_type": "code",
      "source": [
        "y.shape"
      ],
      "metadata": {
        "colab": {
          "base_uri": "https://localhost:8080/"
        },
        "id": "Ap_xwhCVvSVG",
        "outputId": "0a364bee-2f13-4c98-be47-2cec184d2918"
      },
      "execution_count": 40,
      "outputs": [
        {
          "output_type": "execute_result",
          "data": {
            "text/plain": [
              "(60000,)"
            ]
          },
          "metadata": {},
          "execution_count": 40
        }
      ]
    },
    {
      "cell_type": "code",
      "source": [
        "Y.shape"
      ],
      "metadata": {
        "colab": {
          "base_uri": "https://localhost:8080/"
        },
        "id": "ieXv_6rWvW_C",
        "outputId": "41978747-d0de-4043-f3d1-1745a440140a"
      },
      "execution_count": 41,
      "outputs": [
        {
          "output_type": "execute_result",
          "data": {
            "text/plain": [
              "(60000,)"
            ]
          },
          "metadata": {},
          "execution_count": 41
        }
      ]
    },
    {
      "cell_type": "code",
      "source": [
        "np.sum(y == Y)"
      ],
      "metadata": {
        "colab": {
          "base_uri": "https://localhost:8080/"
        },
        "id": "t0JI5qqwvdSF",
        "outputId": "90f2d3be-3acc-4ee8-e00b-5b4928c5960b"
      },
      "execution_count": 42,
      "outputs": [
        {
          "output_type": "execute_result",
          "data": {
            "text/plain": [
              "7137"
            ]
          },
          "metadata": {},
          "execution_count": 42
        }
      ]
    },
    {
      "cell_type": "code",
      "source": [
        "len(Y)"
      ],
      "metadata": {
        "colab": {
          "base_uri": "https://localhost:8080/"
        },
        "id": "Aly6JvREvoHb",
        "outputId": "542aa023-5482-4734-bf5f-fa1c21da3997"
      },
      "execution_count": 43,
      "outputs": [
        {
          "output_type": "execute_result",
          "data": {
            "text/plain": [
              "60000"
            ]
          },
          "metadata": {},
          "execution_count": 43
        }
      ]
    },
    {
      "cell_type": "code",
      "source": [
        "acc = np.sum(y == Y)/len(Y)"
      ],
      "metadata": {
        "id": "9F1XC64fvwDv"
      },
      "execution_count": 44,
      "outputs": []
    },
    {
      "cell_type": "code",
      "source": [
        "acc"
      ],
      "metadata": {
        "colab": {
          "base_uri": "https://localhost:8080/"
        },
        "id": "vbgjp9gBv0-v",
        "outputId": "ccc3f4de-f7c8-4ddb-f028-4f5eb7b6ce42"
      },
      "execution_count": 45,
      "outputs": [
        {
          "output_type": "execute_result",
          "data": {
            "text/plain": [
              "0.11895"
            ]
          },
          "metadata": {},
          "execution_count": 45
        }
      ]
    },
    {
      "cell_type": "code",
      "source": [],
      "metadata": {
        "id": "S4KvxZiOv08I"
      },
      "execution_count": 45,
      "outputs": []
    },
    {
      "cell_type": "code",
      "source": [
        "m = np.random.standard_normal((10,784))\n",
        "\n",
        "y = m@X\n",
        "\n",
        "y = np.argmax(y, axis=0)\n",
        "\n",
        "acc = np.sum(y == Y)/len(Y)\n",
        "\n",
        "print(acc)"
      ],
      "metadata": {
        "colab": {
          "base_uri": "https://localhost:8080/"
        },
        "id": "DxrsYURlt4vh",
        "outputId": "8d265577-b5fd-4144-8deb-ea838d0c284b"
      },
      "execution_count": 46,
      "outputs": [
        {
          "output_type": "stream",
          "name": "stdout",
          "text": [
            "0.11351666666666667\n"
          ]
        }
      ]
    },
    {
      "cell_type": "code",
      "source": [
        "acc_best = 0\n",
        "m_best = 0\n",
        "\n",
        "for i in range(100):\n",
        "    m = np.random.standard_normal((10,784))\n",
        "\n",
        "    y = m@X\n",
        "\n",
        "    y = np.argmax(y, axis=0)\n",
        "\n",
        "    acc = np.sum(y == Y)/len(Y)\n",
        "\n",
        "    if acc > acc_best: \n",
        "        acc_best = acc\n",
        "        m_best = m\n",
        "        print(acc_best)"
      ],
      "metadata": {
        "colab": {
          "base_uri": "https://localhost:8080/"
        },
        "id": "zU5fLnnQv5QA",
        "outputId": "92297ab6-5b84-4054-c30c-9230a937804a"
      },
      "execution_count": 47,
      "outputs": [
        {
          "output_type": "stream",
          "name": "stdout",
          "text": [
            "0.121\n",
            "0.13486666666666666\n",
            "0.16065\n",
            "0.16388333333333333\n",
            "0.17425\n",
            "0.17606666666666668\n"
          ]
        }
      ]
    },
    {
      "cell_type": "code",
      "source": [
        "acc_best = 0\n",
        "m_best = 0\n",
        "\n",
        "for i in range(10000):\n",
        "    m = m_best + np.random.standard_normal((10,784))\n",
        "\n",
        "    y = m@X\n",
        "\n",
        "    y = np.argmax(y, axis=0)\n",
        "\n",
        "    acc = np.sum(y == Y)/len(Y)\n",
        "\n",
        "    if acc > acc_best: \n",
        "        acc_best = acc\n",
        "        m_best = m\n",
        "        print(acc_best)"
      ],
      "metadata": {
        "id": "DiCX8PH9w9jv",
        "colab": {
          "base_uri": "https://localhost:8080/",
          "height": 1000
        },
        "outputId": "6a9edb43-c573-482f-814c-05d577abb1da"
      },
      "execution_count": 48,
      "outputs": [
        {
          "output_type": "stream",
          "name": "stdout",
          "text": [
            "0.12495\n",
            "0.14863333333333334\n",
            "0.1547\n",
            "0.16648333333333334\n",
            "0.16895\n",
            "0.16941666666666666\n",
            "0.1705\n",
            "0.1781\n",
            "0.19361666666666666\n",
            "0.19465\n",
            "0.19853333333333334\n",
            "0.21171666666666666\n",
            "0.22051666666666667\n",
            "0.22421666666666668\n",
            "0.2249\n",
            "0.22728333333333334\n",
            "0.2284\n",
            "0.23705\n",
            "0.24168333333333333\n",
            "0.24551666666666666\n",
            "0.24646666666666667\n",
            "0.2498\n",
            "0.2518\n",
            "0.25295\n",
            "0.26056666666666667\n",
            "0.26188333333333336\n",
            "0.2637833333333333\n",
            "0.26721666666666666\n",
            "0.2681\n",
            "0.2949833333333333\n",
            "0.2966\n",
            "0.29828333333333334\n",
            "0.29868333333333336\n",
            "0.30088333333333334\n",
            "0.30496666666666666\n",
            "0.3062166666666667\n",
            "0.3114166666666667\n",
            "0.32481666666666664\n",
            "0.32843333333333335\n",
            "0.32985\n",
            "0.3298833333333333\n",
            "0.33271666666666666\n",
            "0.33655\n",
            "0.33735\n",
            "0.34918333333333335\n",
            "0.352\n",
            "0.35891666666666666\n",
            "0.3637666666666667\n",
            "0.36595\n",
            "0.36643333333333333\n",
            "0.37043333333333334\n",
            "0.38226666666666664\n",
            "0.3852\n",
            "0.38588333333333336\n",
            "0.39008333333333334\n",
            "0.39225\n",
            "0.39455\n",
            "0.39636666666666664\n",
            "0.39648333333333335\n",
            "0.40015\n",
            "0.40231666666666666\n",
            "0.40435\n",
            "0.40695\n",
            "0.41223333333333334\n",
            "0.41508333333333336\n",
            "0.4181\n",
            "0.42063333333333336\n",
            "0.42315\n",
            "0.42828333333333335\n",
            "0.42896666666666666\n",
            "0.43073333333333336\n",
            "0.43195\n",
            "0.4331333333333333\n",
            "0.43495\n",
            "0.436\n",
            "0.43635\n",
            "0.43783333333333335\n",
            "0.43985\n",
            "0.44258333333333333\n",
            "0.4437833333333333\n",
            "0.4483333333333333\n",
            "0.4485166666666667\n",
            "0.4489\n",
            "0.44925\n",
            "0.4498\n",
            "0.4519166666666667\n",
            "0.45345\n",
            "0.4582833333333333\n",
            "0.46355\n",
            "0.46508333333333335\n",
            "0.46621666666666667\n",
            "0.46681666666666666\n",
            "0.46905\n",
            "0.47063333333333335\n",
            "0.47115\n",
            "0.4719333333333333\n"
          ]
        },
        {
          "output_type": "error",
          "ename": "KeyboardInterrupt",
          "evalue": "ignored",
          "traceback": [
            "\u001b[0;31m---------------------------------------------------------------------------\u001b[0m",
            "\u001b[0;31mKeyboardInterrupt\u001b[0m                         Traceback (most recent call last)",
            "\u001b[0;32m<ipython-input-48-aff0b2f3b203>\u001b[0m in \u001b[0;36m<cell line: 4>\u001b[0;34m()\u001b[0m\n\u001b[1;32m      7\u001b[0m     \u001b[0my\u001b[0m \u001b[0;34m=\u001b[0m \u001b[0mm\u001b[0m\u001b[0;34m@\u001b[0m\u001b[0mX\u001b[0m\u001b[0;34m\u001b[0m\u001b[0;34m\u001b[0m\u001b[0m\n\u001b[1;32m      8\u001b[0m \u001b[0;34m\u001b[0m\u001b[0m\n\u001b[0;32m----> 9\u001b[0;31m     \u001b[0my\u001b[0m \u001b[0;34m=\u001b[0m \u001b[0mnp\u001b[0m\u001b[0;34m.\u001b[0m\u001b[0margmax\u001b[0m\u001b[0;34m(\u001b[0m\u001b[0my\u001b[0m\u001b[0;34m,\u001b[0m \u001b[0maxis\u001b[0m\u001b[0;34m=\u001b[0m\u001b[0;36m0\u001b[0m\u001b[0;34m)\u001b[0m\u001b[0;34m\u001b[0m\u001b[0;34m\u001b[0m\u001b[0m\n\u001b[0m\u001b[1;32m     10\u001b[0m \u001b[0;34m\u001b[0m\u001b[0m\n\u001b[1;32m     11\u001b[0m     \u001b[0macc\u001b[0m \u001b[0;34m=\u001b[0m \u001b[0mnp\u001b[0m\u001b[0;34m.\u001b[0m\u001b[0msum\u001b[0m\u001b[0;34m(\u001b[0m\u001b[0my\u001b[0m \u001b[0;34m==\u001b[0m \u001b[0mY\u001b[0m\u001b[0;34m)\u001b[0m\u001b[0;34m/\u001b[0m\u001b[0mlen\u001b[0m\u001b[0;34m(\u001b[0m\u001b[0mY\u001b[0m\u001b[0;34m)\u001b[0m\u001b[0;34m\u001b[0m\u001b[0;34m\u001b[0m\u001b[0m\n",
            "\u001b[0;32m/usr/local/lib/python3.10/dist-packages/numpy/core/overrides.py\u001b[0m in \u001b[0;36margmax\u001b[0;34m(*args, **kwargs)\u001b[0m\n",
            "\u001b[0;31mKeyboardInterrupt\u001b[0m: "
          ]
        }
      ]
    },
    {
      "cell_type": "code",
      "source": [
        "acc_best = 0\n",
        "m_best = 0\n",
        "\n",
        "for i in range(10000):\n",
        "    m = m_best + np.random.standard_normal((10,784))\n",
        "\n",
        "    y = m@X\n",
        "\n",
        "    y = np.argmax(y, axis=0)\n",
        "\n",
        "    acc = np.sum(y == Y)/len(Y)\n",
        "\n",
        "    if acc > acc_best: \n",
        "        acc_best = acc\n",
        "        m_best = m\n",
        "        print(acc_best)"
      ],
      "metadata": {
        "colab": {
          "base_uri": "https://localhost:8080/",
          "height": 392
        },
        "id": "fKON1XnMxugo",
        "outputId": "9c94d6b5-2594-4aa9-8c2b-9a534e5832b1"
      },
      "execution_count": 49,
      "outputs": [
        {
          "output_type": "stream",
          "name": "stdout",
          "text": [
            "0.08103333333333333\n",
            "0.0977\n",
            "0.16325\n",
            "0.17056666666666667\n",
            "0.1803\n",
            "0.18485\n",
            "0.18951666666666667\n"
          ]
        },
        {
          "output_type": "error",
          "ename": "KeyboardInterrupt",
          "evalue": "ignored",
          "traceback": [
            "\u001b[0;31m---------------------------------------------------------------------------\u001b[0m",
            "\u001b[0;31mKeyboardInterrupt\u001b[0m                         Traceback (most recent call last)",
            "\u001b[0;32m<ipython-input-49-aff0b2f3b203>\u001b[0m in \u001b[0;36m<cell line: 4>\u001b[0;34m()\u001b[0m\n\u001b[1;32m      7\u001b[0m     \u001b[0my\u001b[0m \u001b[0;34m=\u001b[0m \u001b[0mm\u001b[0m\u001b[0;34m@\u001b[0m\u001b[0mX\u001b[0m\u001b[0;34m\u001b[0m\u001b[0;34m\u001b[0m\u001b[0m\n\u001b[1;32m      8\u001b[0m \u001b[0;34m\u001b[0m\u001b[0m\n\u001b[0;32m----> 9\u001b[0;31m     \u001b[0my\u001b[0m \u001b[0;34m=\u001b[0m \u001b[0mnp\u001b[0m\u001b[0;34m.\u001b[0m\u001b[0margmax\u001b[0m\u001b[0;34m(\u001b[0m\u001b[0my\u001b[0m\u001b[0;34m,\u001b[0m \u001b[0maxis\u001b[0m\u001b[0;34m=\u001b[0m\u001b[0;36m0\u001b[0m\u001b[0;34m)\u001b[0m\u001b[0;34m\u001b[0m\u001b[0;34m\u001b[0m\u001b[0m\n\u001b[0m\u001b[1;32m     10\u001b[0m \u001b[0;34m\u001b[0m\u001b[0m\n\u001b[1;32m     11\u001b[0m     \u001b[0macc\u001b[0m \u001b[0;34m=\u001b[0m \u001b[0mnp\u001b[0m\u001b[0;34m.\u001b[0m\u001b[0msum\u001b[0m\u001b[0;34m(\u001b[0m\u001b[0my\u001b[0m \u001b[0;34m==\u001b[0m \u001b[0mY\u001b[0m\u001b[0;34m)\u001b[0m\u001b[0;34m/\u001b[0m\u001b[0mlen\u001b[0m\u001b[0;34m(\u001b[0m\u001b[0mY\u001b[0m\u001b[0;34m)\u001b[0m\u001b[0;34m\u001b[0m\u001b[0;34m\u001b[0m\u001b[0m\n",
            "\u001b[0;32m/usr/local/lib/python3.10/dist-packages/numpy/core/overrides.py\u001b[0m in \u001b[0;36margmax\u001b[0;34m(*args, **kwargs)\u001b[0m\n",
            "\u001b[0;31mKeyboardInterrupt\u001b[0m: "
          ]
        }
      ]
    },
    {
      "cell_type": "code",
      "source": [
        "def GPU(data):\n",
        "    return torch.tensor(data, requires_grad=True, dtype=torch.float, device=torch.device('cuda'))\n",
        "\n",
        "def GPU_data(data):\n",
        "    return torch.tensor(data, requires_grad=False, dtype=torch.float, device=torch.device('cuda'))"
      ],
      "metadata": {
        "id": "VIW5g8_WzAtI"
      },
      "execution_count": 50,
      "outputs": []
    },
    {
      "cell_type": "code",
      "source": [
        "X = GPU_data(X)\n",
        "Y = GPU_data(Y)\n",
        "X_test = GPU_data(X_test)\n",
        "Y_test = GPU_data(Y_test)"
      ],
      "metadata": {
        "id": "albma-mgUzZ_"
      },
      "execution_count": 51,
      "outputs": []
    },
    {
      "cell_type": "code",
      "source": [
        "X.shape"
      ],
      "metadata": {
        "colab": {
          "base_uri": "https://localhost:8080/"
        },
        "id": "UJVfINO6ydWg",
        "outputId": "c3b1135d-ba5a-4183-bf2b-660bdb4b868f"
      },
      "execution_count": 52,
      "outputs": [
        {
          "output_type": "execute_result",
          "data": {
            "text/plain": [
              "torch.Size([784, 60000])"
            ]
          },
          "metadata": {},
          "execution_count": 52
        }
      ]
    },
    {
      "cell_type": "code",
      "source": [
        "acc_best = 0\n",
        "m_best = 0\n",
        "\n",
        "for i in range(10000):\n",
        "    m = GPU_data(torch.randn(10,784))\n",
        "\n",
        "    y = m@X\n",
        "\n",
        "    y = torch.argmax(y, axis=0)\n",
        "\n",
        "    acc = torch.sum(y == Y)/len(Y)\n",
        "\n",
        "    if acc > acc_best: \n",
        "        acc_best = acc\n",
        "        m_best = m\n",
        "        print(acc_best)"
      ],
      "metadata": {
        "colab": {
          "base_uri": "https://localhost:8080/"
        },
        "id": "9Vjmn4bRydTq",
        "outputId": "3f786e9b-f103-4131-e1d3-364c2b610b88"
      },
      "execution_count": 56,
      "outputs": [
        {
          "output_type": "stream",
          "name": "stderr",
          "text": [
            "<ipython-input-50-c3d856de2607>:5: UserWarning: To copy construct from a tensor, it is recommended to use sourceTensor.clone().detach() or sourceTensor.clone().detach().requires_grad_(True), rather than torch.tensor(sourceTensor).\n",
            "  return torch.tensor(data, requires_grad=False, dtype=torch.float, device=torch.device('cuda'))\n"
          ]
        },
        {
          "output_type": "stream",
          "name": "stdout",
          "text": [
            "tensor(0.0636, device='cuda:0')\n",
            "tensor(0.1181, device='cuda:0')\n",
            "tensor(0.1200, device='cuda:0')\n",
            "tensor(0.1240, device='cuda:0')\n",
            "tensor(0.1327, device='cuda:0')\n",
            "tensor(0.1424, device='cuda:0')\n",
            "tensor(0.1555, device='cuda:0')\n",
            "tensor(0.1843, device='cuda:0')\n",
            "tensor(0.1927, device='cuda:0')\n",
            "tensor(0.1951, device='cuda:0')\n",
            "tensor(0.2050, device='cuda:0')\n",
            "tensor(0.2077, device='cuda:0')\n",
            "tensor(0.2198, device='cuda:0')\n",
            "tensor(0.2198, device='cuda:0')\n",
            "tensor(0.2294, device='cuda:0')\n"
          ]
        }
      ]
    },
    {
      "cell_type": "code",
      "source": [
        "acc_best = 0\n",
        "m_best = 0\n",
        "\n",
        "for i in range(100000):\n",
        "    m = m_best + 0.00001*GPU_data(torch.randn(10,784))\n",
        "\n",
        "    y = m@X\n",
        "\n",
        "    y = torch.argmax(y, axis=0)\n",
        "\n",
        "    acc = torch.sum(y == Y)/len(Y)\n",
        "\n",
        "    if acc > acc_best: \n",
        "        acc_best = acc\n",
        "        m_best = m\n",
        "        print(acc_best)"
      ],
      "metadata": {
        "id": "rFYPcdKKzzh9"
      },
      "execution_count": null,
      "outputs": []
    },
    {
      "cell_type": "code",
      "source": [
        "m.shape,X.shape"
      ],
      "metadata": {
        "colab": {
          "base_uri": "https://localhost:8080/"
        },
        "id": "9Sq3PfZA0fTO",
        "outputId": "fed4e0a2-2652-43db-8c11-e217b8122a81"
      },
      "execution_count": 60,
      "outputs": [
        {
          "output_type": "execute_result",
          "data": {
            "text/plain": [
              "(torch.Size([10, 784]), torch.Size([784, 60000]))"
            ]
          },
          "metadata": {},
          "execution_count": 60
        }
      ]
    },
    {
      "cell_type": "code",
      "source": [
        "y = m@X"
      ],
      "metadata": {
        "id": "dfLuqglh1V_J"
      },
      "execution_count": 61,
      "outputs": []
    },
    {
      "cell_type": "code",
      "source": [
        "y.shape"
      ],
      "metadata": {
        "colab": {
          "base_uri": "https://localhost:8080/"
        },
        "id": "eGNq2NxX1cMm",
        "outputId": "1add199d-bba8-40e5-8887-ea57fb3f9d87"
      },
      "execution_count": 62,
      "outputs": [
        {
          "output_type": "execute_result",
          "data": {
            "text/plain": [
              "torch.Size([10, 60000])"
            ]
          },
          "metadata": {},
          "execution_count": 62
        }
      ]
    },
    {
      "cell_type": "code",
      "source": [
        "M = GPU_data(np.random.random((100,10,784)))\n",
        "M.shape,X.shape"
      ],
      "metadata": {
        "colab": {
          "base_uri": "https://localhost:8080/"
        },
        "id": "mv3TF2Xg1nN4",
        "outputId": "8c4295ed-33f9-4df4-c9ab-94c3d0c3992d"
      },
      "execution_count": 63,
      "outputs": [
        {
          "output_type": "execute_result",
          "data": {
            "text/plain": [
              "(torch.Size([100, 10, 784]), torch.Size([784, 60000]))"
            ]
          },
          "metadata": {},
          "execution_count": 63
        }
      ]
    },
    {
      "cell_type": "code",
      "source": [
        "y =M@X"
      ],
      "metadata": {
        "id": "am71XqP01til"
      },
      "execution_count": 64,
      "outputs": []
    },
    {
      "cell_type": "code",
      "source": [
        "y.shape"
      ],
      "metadata": {
        "colab": {
          "base_uri": "https://localhost:8080/"
        },
        "id": "0ZBbz7-11xmK",
        "outputId": "060e2d3e-cfa7-4e41-ab28-1a3e88c65ba2"
      },
      "execution_count": 65,
      "outputs": [
        {
          "output_type": "execute_result",
          "data": {
            "text/plain": [
              "torch.Size([100, 10, 60000])"
            ]
          },
          "metadata": {},
          "execution_count": 65
        }
      ]
    },
    {
      "cell_type": "code",
      "source": [
        "y = torch.argmax((M@X), axis=1) \n",
        "score = ((y == Y).sum(1)/len(Y))"
      ],
      "metadata": {
        "id": "sEFZR4w115QZ"
      },
      "execution_count": 66,
      "outputs": []
    },
    {
      "cell_type": "code",
      "source": [
        "score.shape"
      ],
      "metadata": {
        "colab": {
          "base_uri": "https://localhost:8080/"
        },
        "id": "0kHfIfmt198G",
        "outputId": "3e596ad4-93f2-42d0-cc6f-090bb1a6bac1"
      },
      "execution_count": 67,
      "outputs": [
        {
          "output_type": "execute_result",
          "data": {
            "text/plain": [
              "torch.Size([100])"
            ]
          },
          "metadata": {},
          "execution_count": 67
        }
      ]
    },
    {
      "cell_type": "code",
      "source": [
        "score"
      ],
      "metadata": {
        "colab": {
          "base_uri": "https://localhost:8080/"
        },
        "id": "ZtUBksgz2CSw",
        "outputId": "8f4db108-e3cc-479f-99e3-cb5e0e157c97"
      },
      "execution_count": 68,
      "outputs": [
        {
          "output_type": "execute_result",
          "data": {
            "text/plain": [
              "tensor([0.0804, 0.1208, 0.1339, 0.1252, 0.1315, 0.0679, 0.0608, 0.0645, 0.0989,\n",
              "        0.1344, 0.1514, 0.1026, 0.0915, 0.1036, 0.1158, 0.0874, 0.0789, 0.0950,\n",
              "        0.1195, 0.1303, 0.1744, 0.0919, 0.0634, 0.0673, 0.0791, 0.0980, 0.1116,\n",
              "        0.1375, 0.1887, 0.1198, 0.0750, 0.0729, 0.0799, 0.0941, 0.0478, 0.0349,\n",
              "        0.1041, 0.0454, 0.0887, 0.0916, 0.1088, 0.1396, 0.1103, 0.0883, 0.0893,\n",
              "        0.0938, 0.0912, 0.1389, 0.1327, 0.1062, 0.1040, 0.1051, 0.1216, 0.0977,\n",
              "        0.0851, 0.1236, 0.0879, 0.0813, 0.0665, 0.1013, 0.1356, 0.0922, 0.0551,\n",
              "        0.1467, 0.0840, 0.0743, 0.1094, 0.0972, 0.1494, 0.1320, 0.1083, 0.0466,\n",
              "        0.1014, 0.0669, 0.0693, 0.0838, 0.1007, 0.0406, 0.0885, 0.1025, 0.1348,\n",
              "        0.0765, 0.1628, 0.0727, 0.1000, 0.1097, 0.0562, 0.0878, 0.0938, 0.0680,\n",
              "        0.0761, 0.1049, 0.0912, 0.0761, 0.0975, 0.0606, 0.0670, 0.1094, 0.0395,\n",
              "        0.1087], device='cuda:0')"
            ]
          },
          "metadata": {},
          "execution_count": 68
        }
      ]
    },
    {
      "cell_type": "code",
      "source": [
        "s = torch.argsort(score,descending=True)"
      ],
      "metadata": {
        "id": "7yuUh8VX2Kvm"
      },
      "execution_count": 69,
      "outputs": []
    },
    {
      "cell_type": "code",
      "source": [
        "score[s]"
      ],
      "metadata": {
        "colab": {
          "base_uri": "https://localhost:8080/"
        },
        "id": "-QFrryHb2NDx",
        "outputId": "21e307d2-e766-4768-cb58-8e9ae2f74aa0"
      },
      "execution_count": 70,
      "outputs": [
        {
          "output_type": "execute_result",
          "data": {
            "text/plain": [
              "tensor([0.1887, 0.1744, 0.1628, 0.1514, 0.1494, 0.1467, 0.1396, 0.1389, 0.1375,\n",
              "        0.1356, 0.1348, 0.1344, 0.1339, 0.1327, 0.1320, 0.1315, 0.1303, 0.1252,\n",
              "        0.1236, 0.1216, 0.1208, 0.1198, 0.1195, 0.1158, 0.1116, 0.1103, 0.1097,\n",
              "        0.1094, 0.1094, 0.1088, 0.1087, 0.1083, 0.1062, 0.1051, 0.1049, 0.1041,\n",
              "        0.1040, 0.1036, 0.1026, 0.1025, 0.1014, 0.1013, 0.1007, 0.1000, 0.0989,\n",
              "        0.0980, 0.0977, 0.0975, 0.0972, 0.0950, 0.0941, 0.0938, 0.0938, 0.0922,\n",
              "        0.0919, 0.0916, 0.0915, 0.0912, 0.0912, 0.0893, 0.0887, 0.0885, 0.0883,\n",
              "        0.0879, 0.0878, 0.0874, 0.0851, 0.0840, 0.0838, 0.0813, 0.0804, 0.0799,\n",
              "        0.0791, 0.0789, 0.0765, 0.0761, 0.0761, 0.0750, 0.0743, 0.0729, 0.0727,\n",
              "        0.0693, 0.0680, 0.0679, 0.0673, 0.0670, 0.0669, 0.0665, 0.0645, 0.0634,\n",
              "        0.0608, 0.0606, 0.0562, 0.0551, 0.0478, 0.0466, 0.0454, 0.0406, 0.0395,\n",
              "        0.0349], device='cuda:0')"
            ]
          },
          "metadata": {},
          "execution_count": 70
        }
      ]
    },
    {
      "cell_type": "code",
      "source": [
        "N = 100\n",
        "M = GPU_data(np.random.random((N,10,784)))\n",
        "\n",
        "m_best = 0 \n",
        "acc_best = 0\n",
        "\n",
        "for i in range(1000000):\n",
        "\n",
        "    y = torch.argmax((M@X), axis=1) \n",
        "    score = ((y == Y).sum(1)/len(Y))\n",
        "    s = torch.argsort(score,descending=True)\n",
        "    M = M[s]\n",
        "\n",
        "    M[1:] = M[0]\n",
        "    M[N//2:] = 0\n",
        "    M[1:] += 0.0000001*GPU_data(np.random.random((N-1,10,784)))\n",
        "\n",
        "    acc = score[s][0].item()\n",
        "\n",
        "    if acc > acc_best:\n",
        "        print(acc)\n",
        "        m_best = M[0]\n",
        "        acc_best = acc"
      ],
      "metadata": {
        "colab": {
          "base_uri": "https://localhost:8080/"
        },
        "id": "fpruBklG2ami",
        "outputId": "efd29f4d-3b02-46eb-ebe5-d82606715918"
      },
      "execution_count": null,
      "outputs": [
        {
          "output_type": "stream",
          "name": "stdout",
          "text": [
            "0.1923166662454605\n",
            "0.2041500061750412\n",
            "0.2231166660785675\n",
            "0.26081666350364685\n",
            "0.2726333439350128\n",
            "0.2796500027179718\n",
            "0.2881166636943817\n",
            "0.2974500060081482\n",
            "0.3166666626930237\n",
            "0.33863332867622375\n",
            "0.3688333332538605\n",
            "0.38616666197776794\n",
            "0.39303332567214966\n",
            "0.3953000009059906\n",
            "0.398416668176651\n",
            "0.4079166650772095\n",
            "0.4160666763782501\n",
            "0.41929998993873596\n",
            "0.42348334193229675\n",
            "0.4332333505153656\n",
            "0.4422000050544739\n",
            "0.45018333196640015\n",
            "0.4625166654586792\n",
            "0.4637500047683716\n",
            "0.4683833420276642\n",
            "0.47210001945495605\n",
            "0.47673332691192627\n",
            "0.48208335041999817\n",
            "0.48410001397132874\n",
            "0.48721668124198914\n",
            "0.4882500171661377\n",
            "0.4901333451271057\n",
            "0.4947666823863983\n",
            "0.49523332715034485\n",
            "0.49693334102630615\n",
            "0.4976833462715149\n",
            "0.5016999840736389\n",
            "0.5058500170707703\n",
            "0.5123833417892456\n",
            "0.5161666870117188\n",
            "0.5207833647727966\n",
            "0.5222499966621399\n",
            "0.5267166495323181\n",
            "0.5269500017166138\n",
            "0.5270000100135803\n",
            "0.5273666977882385\n",
            "0.5302500128746033\n",
            "0.5303999781608582\n",
            "0.5316166877746582\n",
            "0.5338500142097473\n",
            "0.5342000126838684\n",
            "0.5357666611671448\n",
            "0.5412999987602234\n",
            "0.5421000123023987\n",
            "0.5440666675567627\n",
            "0.5462833642959595\n",
            "0.5469499826431274\n",
            "0.5476333498954773\n",
            "0.5491999983787537\n",
            "0.5493000149726868\n",
            "0.5498499870300293\n",
            "0.5507500171661377\n",
            "0.5508833527565002\n",
            "0.5516666769981384\n",
            "0.5524666905403137\n",
            "0.5543833374977112\n",
            "0.5556333661079407\n",
            "0.5568666458129883\n",
            "0.5572666525840759\n",
            "0.5607166886329651\n",
            "0.5614333152770996\n",
            "0.5625666975975037\n",
            "0.5641000270843506\n",
            "0.5648833513259888\n",
            "0.5658167004585266\n",
            "0.5670833587646484\n",
            "0.5680666565895081\n",
            "0.5700666904449463\n",
            "0.570816695690155\n",
            "0.5716333389282227\n",
            "0.5719000101089478\n",
            "0.5727666616439819\n",
            "0.57423335313797\n",
            "0.578000009059906\n",
            "0.5795666575431824\n",
            "0.580133318901062\n",
            "0.5819166898727417\n",
            "0.584933340549469\n",
            "0.587149977684021\n",
            "0.5889333486557007\n",
            "0.590749979019165\n",
            "0.5910999774932861\n",
            "0.5932666659355164\n",
            "0.5943000316619873\n",
            "0.5960333347320557\n",
            "0.5976999998092651\n",
            "0.6018166542053223\n",
            "0.6035000085830688\n",
            "0.6051833629608154\n",
            "0.6074000000953674\n",
            "0.6119499802589417\n",
            "0.6150500178337097\n",
            "0.6166666746139526\n",
            "0.6175166964530945\n",
            "0.6206833124160767\n",
            "0.6228333115577698\n",
            "0.6245499849319458\n",
            "0.6256999969482422\n",
            "0.626383364200592\n",
            "0.6272166967391968\n",
            "0.6278833150863647\n",
            "0.629716694355011\n",
            "0.6310499906539917\n",
            "0.6315667033195496\n",
            "0.6327666640281677\n",
            "0.6328333616256714\n",
            "0.633483350276947\n",
            "0.6341666579246521\n",
            "0.6355833411216736\n",
            "0.6361666917800903\n",
            "0.6381999850273132\n",
            "0.6385000348091125\n",
            "0.6391500234603882\n",
            "0.6395166516304016\n",
            "0.6403666734695435\n",
            "0.6406500339508057\n",
            "0.6412000060081482\n",
            "0.6415333151817322\n",
            "0.6426166892051697\n",
            "0.6451166868209839\n",
            "0.6461666822433472\n",
            "0.6466166973114014\n",
            "0.6486499905586243\n",
            "0.6495167016983032\n",
            "0.6495333313941956\n",
            "0.6500333547592163\n",
            "0.651449978351593\n",
            "0.6523500084877014\n",
            "0.6529666781425476\n",
            "0.6534333229064941\n",
            "0.6536666750907898\n",
            "0.654699981212616\n",
            "0.6549500226974487\n",
            "0.6561499834060669\n",
            "0.6569166779518127\n",
            "0.6585000157356262\n",
            "0.6602500081062317\n",
            "0.6621833443641663\n",
            "0.6645166873931885\n",
            "0.6669333577156067\n",
            "0.6673499941825867\n",
            "0.6677333116531372\n",
            "0.6702499985694885\n",
            "0.6711833477020264\n",
            "0.6737666726112366\n",
            "0.6747166514396667\n",
            "0.6770833134651184\n",
            "0.6784999966621399\n",
            "0.6801333427429199\n",
            "0.6840333342552185\n",
            "0.6856499910354614\n",
            "0.6858166456222534\n",
            "0.6876500248908997\n",
            "0.6896666884422302\n",
            "0.6912500262260437\n",
            "0.6933333277702332\n",
            "0.6952333450317383\n",
            "0.6976000070571899\n",
            "0.7008166909217834\n",
            "0.7038333415985107\n",
            "0.7064833641052246\n",
            "0.7079166769981384\n",
            "0.7082833647727966\n",
            "0.709683358669281\n",
            "0.7111333608627319\n",
            "0.7125166654586792\n",
            "0.713949978351593\n",
            "0.7159166932106018\n",
            "0.7162166833877563\n",
            "0.7172499895095825\n",
            "0.718583345413208\n",
            "0.7198666930198669\n",
            "0.7208666801452637\n",
            "0.7210166454315186\n",
            "0.7240000367164612\n",
            "0.724133312702179\n",
            "0.7251166701316833\n",
            "0.727483332157135\n",
            "0.7291833162307739\n",
            "0.7296833395957947\n",
            "0.7304999828338623\n",
            "0.7320333123207092\n",
            "0.7328166961669922\n",
            "0.7333999872207642\n",
            "0.7339333295822144\n",
            "0.7341333627700806\n",
            "0.7353000044822693\n",
            "0.7363333702087402\n",
            "0.7379000186920166\n",
            "0.7380499839782715\n",
            "0.7383833527565002\n",
            "0.7404166460037231\n",
            "0.7423000335693359\n",
            "0.7433333396911621\n",
            "0.7434000372886658\n",
            "0.7436666488647461\n",
            "0.7436833381652832\n",
            "0.7445833683013916\n",
            "0.7454167008399963\n",
            "0.7458166480064392\n",
            "0.7464500069618225\n",
            "0.7476333379745483\n",
            "0.7477499842643738\n",
            "0.7487833499908447\n",
            "0.7495333552360535\n",
            "0.7495499849319458\n",
            "0.7500500082969666\n",
            "0.7505500316619873\n",
            "0.7509999871253967\n",
            "0.7527333498001099\n",
            "0.7543500065803528\n",
            "0.7548166513442993\n",
            "0.7556333541870117\n",
            "0.757016658782959\n",
            "0.7583000063896179\n",
            "0.7584166526794434\n",
            "0.7584333419799805\n",
            "0.7584999799728394\n",
            "0.7586833238601685\n",
            "0.7595999836921692\n",
            "0.760699987411499\n",
            "0.7612666487693787\n",
            "0.7619500160217285\n",
            "0.7620833516120911\n",
            "0.7628166675567627\n",
            "0.7633166909217834\n",
            "0.7635166645050049\n",
            "0.7645666599273682\n",
            "0.765333354473114\n",
            "0.7660166621208191\n",
            "0.7662500143051147\n",
            "0.7666000127792358\n",
            "0.7680166959762573\n",
            "0.7682166695594788\n",
            "0.7682666778564453\n",
            "0.7690833210945129\n",
            "0.7712166905403137\n",
            "0.7717000246047974\n",
            "0.7731333374977112\n",
            "0.7743333578109741\n",
            "0.776033341884613\n",
            "0.7768833637237549\n",
            "0.7775166630744934\n",
            "0.7789166569709778\n",
            "0.7800166606903076\n",
            "0.7814500331878662\n",
            "0.7823166847229004\n",
            "0.7836833596229553\n",
            "0.7844333648681641\n",
            "0.786466658115387\n",
            "0.7886666655540466\n",
            "0.7899333238601685\n",
            "0.7909833192825317\n",
            "0.7928333282470703\n",
            "0.7944333553314209\n",
            "0.7952499985694885\n",
            "0.7955333590507507\n",
            "0.7976499795913696\n",
            "0.7987000346183777\n",
            "0.7991999983787537\n",
            "0.7998666763305664\n",
            "0.800516664981842\n",
            "0.8008500337600708\n",
            "0.8014833331108093\n",
            "0.801800012588501\n",
            "0.8033333420753479\n",
            "0.804016649723053\n",
            "0.8041999936103821\n",
            "0.8056666851043701\n",
            "0.8058000206947327\n",
            "0.8080333471298218\n",
            "0.8094666600227356\n",
            "0.8098166584968567\n",
            "0.8098666667938232\n",
            "0.8103500008583069\n",
            "0.8105166554450989\n",
            "0.8109166622161865\n",
            "0.8113499879837036\n",
            "0.8131666779518127\n",
            "0.8138166666030884\n",
            "0.8144333362579346\n",
            "0.8148500323295593\n",
            "0.8149166703224182\n",
            "0.8155666589736938\n",
            "0.8166833519935608\n",
            "0.8173333406448364\n",
            "0.8184999823570251\n",
            "0.8190667033195496\n",
            "0.8205333352088928\n",
            "0.8208333253860474\n",
            "0.8209666609764099\n",
            "0.8209999799728394\n",
            "0.8222833275794983\n",
            "0.8225833177566528\n",
            "0.8234666585922241\n",
            "0.8236666917800903\n",
            "0.8247500061988831\n",
            "0.824833333492279\n",
            "0.825083315372467\n",
            "0.8256166577339172\n",
            "0.8260833621025085\n",
            "0.8263166546821594\n",
            "0.8270000219345093\n",
            "0.8272500038146973\n",
            "0.8278499841690063\n",
            "0.8285499811172485\n",
            "0.8288333415985107\n",
            "0.8298500180244446\n",
            "0.8301666975021362\n",
            "0.8305333256721497\n",
            "0.830916702747345\n",
            "0.8311333656311035\n",
            "0.8311833143234253\n",
            "0.8315500020980835\n",
            "0.8322833180427551\n",
            "0.8324666619300842\n",
            "0.8328333497047424\n",
            "0.8331500291824341\n",
            "0.8333666920661926\n",
            "0.833466649055481\n",
            "0.8339000344276428\n",
            "0.834516704082489\n",
            "0.834600031375885\n",
            "0.8348166942596436\n",
            "0.8350333571434021\n",
            "0.8353166580200195\n",
            "0.8358833193778992\n",
            "0.8364166617393494\n",
            "0.8364333510398865\n",
            "0.8366333246231079\n",
            "0.8369166851043701\n",
            "0.837066650390625\n",
            "0.8373667001724243\n",
            "0.8375499844551086\n",
            "0.8378333449363708\n",
            "0.837850034236908\n",
            "0.8378999829292297\n",
            "0.8382499814033508\n",
            "0.8383166790008545\n",
            "0.8386666774749756\n",
            "0.838866651058197\n",
            "0.8389000296592712\n",
            "0.8390833139419556\n",
            "0.8393333554267883\n",
            "0.8394833207130432\n",
            "0.8397833704948425\n",
            "0.839900016784668\n",
            "0.8399666547775269\n",
            "0.8404666781425476\n",
            "0.8407500386238098\n",
            "0.8414999842643738\n",
            "0.8419833183288574\n",
            "0.842199981212616\n",
            "0.8425666689872742\n",
            "0.8427667021751404\n",
            "0.8430500030517578\n",
            "0.8436333537101746\n",
            "0.8443000316619873\n",
            "0.8445000052452087\n",
            "0.8447999954223633\n",
            "0.8449333310127258\n",
            "0.8450166583061218\n",
            "0.8452333211898804\n",
            "0.8460833430290222\n",
            "0.8463333249092102\n",
            "0.8464000225067139\n",
            "0.8466166853904724\n",
            "0.8469499945640564\n",
            "0.847183346748352\n",
            "0.8477333188056946\n",
            "0.8479999899864197\n",
            "0.8482666611671448\n",
            "0.8486666679382324\n",
            "0.8487499952316284\n",
            "0.848800003528595\n",
            "0.8491333723068237\n",
            "0.8493500351905823\n",
            "0.8495500087738037\n",
            "0.8497000336647034\n",
            "0.8497666716575623\n",
            "0.8502500057220459\n",
            "0.8506166934967041\n",
            "0.8506333231925964\n",
            "0.8508833646774292\n",
            "0.850933313369751\n",
            "0.8513500094413757\n",
            "0.8518000245094299\n",
            "0.8518999814987183\n",
            "0.8521000146865845\n",
            "0.8521167039871216\n",
            "0.8524667024612427\n",
            "0.8526999950408936\n",
            "0.8529166579246521\n",
            "0.8529333472251892\n",
            "0.8531000018119812\n",
            "0.8532333374023438\n",
            "0.8533999919891357\n",
            "0.8534500002861023\n",
            "0.8535000085830688\n",
            "0.8537166714668274\n",
            "0.8543000221252441\n",
            "0.8543166518211365\n",
            "0.854449987411499\n",
            "0.8545500040054321\n",
            "0.8550000190734863\n",
            "0.8556333184242249\n",
            "0.8559333682060242\n",
            "0.8561166524887085\n",
            "0.856333315372467\n",
            "0.8564666509628296\n",
            "0.8568833470344543\n",
            "0.8573166728019714\n",
            "0.8573333621025085\n",
            "0.8573833703994751\n",
            "0.8577333688735962\n",
            "0.8578166961669922\n",
            "0.8578500151634216\n",
            "0.8579333424568176\n",
            "0.8580166697502136\n",
            "0.8580999970436096\n",
            "0.8582500219345093\n",
            "0.8585833311080933\n",
            "0.8587000370025635\n",
            "0.8592000007629395\n",
            "0.8593500256538391\n",
            "0.859499990940094\n",
            "0.8597833514213562\n",
            "0.8600666522979736\n",
            "0.8605333566665649\n",
            "0.860716700553894\n",
            "0.8607833385467529\n",
            "0.8609333634376526\n",
            "0.8609499931335449\n",
            "0.8611500263214111\n",
            "0.8611833453178406\n",
            "0.8613166809082031\n",
            "0.8615833520889282\n",
            "0.8619333505630493\n",
            "0.8619999885559082\n",
            "0.8621333241462708\n",
            "0.8621833324432373\n",
            "0.8623833656311035\n",
            "0.8624833226203918\n",
            "0.862666666507721\n",
            "0.8628333210945129\n",
            "0.8631333708763123\n",
            "0.8636333346366882\n",
            "0.8636666536331177\n",
            "0.8639333248138428\n",
            "0.8639500141143799\n",
            "0.8641000390052795\n",
            "0.8643333315849304\n",
            "0.8643666505813599\n",
            "0.8644333481788635\n",
            "0.8646667003631592\n",
            "0.864716649055481\n",
            "0.8652999997138977\n",
            "0.8653833270072937\n",
            "0.8655999898910522\n",
            "0.8656166791915894\n",
            "0.8656499981880188\n",
            "0.8656833171844482\n",
            "0.8657500147819519\n",
            "0.8658833503723145\n",
            "0.866183340549469\n",
            "0.8664833307266235\n",
            "0.8666000366210938\n",
            "0.8666166663169861\n",
            "0.8666999936103821\n",
            "0.8667333722114563\n",
            "0.8669666647911072\n",
            "0.8673333525657654\n",
            "0.8673999905586243\n",
            "0.8675166964530945\n",
            "0.8675333261489868\n",
            "0.8675833344459534\n",
            "0.8678666949272156\n",
            "0.8679500222206116\n",
            "0.8680000305175781\n",
            "0.8680166602134705\n",
            "0.868316650390625\n",
            "0.8684833645820618\n",
            "0.8686333298683167\n",
            "0.8687833547592163\n",
            "0.8688666820526123\n",
            "0.8690000176429749\n",
            "0.8692499995231628\n",
            "0.8692833185195923\n",
            "0.8693166971206665\n",
            "0.8694333434104919\n",
            "0.8694666624069214\n",
            "0.869616687297821\n",
            "0.8696333169937134\n",
            "0.8696666955947876\n",
            "0.8696833252906799\n",
            "0.869783341884613\n",
            "0.8700500130653381\n",
            "0.8703333139419556\n",
            "0.8704500198364258\n",
            "0.8705000281333923\n",
            "0.8706166744232178\n",
            "0.8707666993141174\n",
            "0.8708833456039429\n",
            "0.871066689491272\n",
            "0.8711667060852051\n",
            "0.8712166547775269\n",
            "0.871233344078064\n",
            "0.8713833689689636\n",
            "0.8716166615486145\n",
            "0.8716999888420105\n",
            "0.8717833161354065\n",
            "0.8718500137329102\n",
            "0.8719833493232727\n",
            "0.8720333576202393\n",
            "0.8720666766166687\n",
            "0.8721833229064941\n",
            "0.8725500106811523\n",
            "0.8727333545684814\n",
            "0.8727666735649109\n",
            "0.873283326625824\n",
            "0.8733000159263611\n",
            "0.8736833333969116\n",
            "0.8737500309944153\n",
            "0.8739166855812073\n",
            "0.8740167021751404\n",
            "0.8740666508674622\n"
          ]
        }
      ]
    },
    {
      "cell_type": "code",
      "source": [],
      "metadata": {
        "id": "Vw8AZRey2ajP"
      },
      "execution_count": null,
      "outputs": []
    }
  ]
}
