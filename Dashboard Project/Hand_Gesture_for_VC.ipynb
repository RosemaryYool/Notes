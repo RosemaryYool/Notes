{
  "nbformat": 4,
  "nbformat_minor": 0,
  "metadata": {
    "colab": {
      "provenance": [],
      "collapsed_sections": [
        "VScs1PFpA_P0",
        "j1NMnqJTBQkR",
        "ofRwI5YAHUu4",
        "FDLq3jiaXOj7"
      ],
      "authorship_tag": "ABX9TyN07efS/zhfg2fuFC7ZK2EK",
      "include_colab_link": true
    },
    "kernelspec": {
      "name": "python3",
      "display_name": "Python 3"
    },
    "language_info": {
      "name": "python"
    }
  },
  "cells": [
    {
      "cell_type": "markdown",
      "metadata": {
        "id": "view-in-github",
        "colab_type": "text"
      },
      "source": [
        "<a href=\"https://colab.research.google.com/github/RosemaryYool/Notes-for-AI-in-Science-and-Medicine/blob/main/Hand_Gesture_for_VC.ipynb\" target=\"_parent\"><img src=\"https://colab.research.google.com/assets/colab-badge.svg\" alt=\"Open In Colab\"/></a>"
      ]
    },
    {
      "cell_type": "markdown",
      "source": [
        "# Data Collection\n",
        "---\n",
        "Will use the webcam as a mode for users to generate their own data."
      ],
      "metadata": {
        "id": "VScs1PFpA_P0"
      }
    },
    {
      "cell_type": "markdown",
      "source": [
        "Define a specific hand gesture for each volume control action:\n",
        "\n",
        "---\n",
        "\n",
        "1. One finger up will be for turning the volume down.\n",
        "2. Two fingers up will be for turning the volume up."
      ],
      "metadata": {
        "id": "AIXQCyMpAvxz"
      }
    },
    {
      "cell_type": "code",
      "source": [
        "from microdot import Microdot, Response\n",
        "\n",
        "app = Microdot()\n",
        "Response.default_content_type = 'text/html'\n",
        "\n",
        "def htmldoc():\n",
        "    doc = f'''\n",
        "        <head>\n",
        "            <meta charset=\"utf-8\">\n",
        "            <meta name=\"viewport\" content=\"width=device-width, initial-scale=1\">\n",
        "            <title>Dashboard CSS - Demo</title>\n",
        "            <link rel=\"stylesheet\" href=\"https://williamedwardhahn.github.io/AI_Science_Medicine/dashboard.css\">\n",
        "        </head>\n",
        "        <body>\n",
        "            <header>\n",
        "                <h1>Begin your study!</h1>\n",
        "            </header>\n",
        "            <nav>\n",
        "                <input type=\"checkbox\" id=\"nav-menu-btn\" />\n",
        "                <label for=\"nav-menu-btn\"></label>\n",
        "                <ul>\n",
        "                    <li><a href=\"#\">My Profile</a></li>\n",
        "                    <li><a href=\"#\">My Projects</a></li>\n",
        "                    <li><a href=\"#\">Color Selections</a></li>\n",
        "                    <li><a href=\"#\">System Calibration</a></li>\n",
        "                </ul>\n",
        "            </nav>\n",
        "            <main class=\"container-fluid\">\n",
        "              <div class=\"row\">\n",
        "\n",
        "                <div class=\"col-xs-12 col-sm-6 col-md-3\">\n",
        "                  <div class=\"panel\">\n",
        "                    <header>\n",
        "                      <h2>Temperature</h2>\n",
        "                    </header>\n",
        "                    <main>\n",
        "                      <h3>23.5<sub>&deg;C</sub></h3>\n",
        "                    </main>\n",
        "                    <footer>\n",
        "                      <time>2016_04_01 12:21 UTC</time>\n",
        "                    </footer>\n",
        "                  </div>\n",
        "                </div>\n",
        "\n",
        "                <div class=\"col-xs-12 col-sm-6 col-md-3\">\n",
        "                  <div class=\"panel\">\n",
        "                    <header>\n",
        "                      <h2>M1 Position</h2>\n",
        "                    </header>\n",
        "                    <main>\n",
        "                      <h3>14<sub>steps</sub></h3>\n",
        "                    </main>\n",
        "                    <footer>\n",
        "                      <time>2016-04-01 12:21 UTC</time>\n",
        "                    </footer>\n",
        "                </div>\n",
        "            </div>\n",
        "\n",
        "        <div class=\"col-xs-12 col-sm-12 col-md-6\">\n",
        "          <div class=\"panel info\">\n",
        "            <header>\n",
        "              <h2>Elapsed Time</h2>\n",
        "            </header>\n",
        "            <main>\n",
        "              <h3>0:22:07.414</h3>\n",
        "            </main>\n",
        "            <footer>\n",
        "              <time>2016-04-01 12:21 UTC</time>\n",
        "            </footer>\n",
        "          </div>\n",
        "        </div>\n",
        "\n",
        "      </div>\n",
        "\n",
        "      <div class=\"row\">\n",
        "\n",
        "        <div class=\"col-xs-12 col-sm-12 col-md-6\">\n",
        "          <div class=\"panel double success\">\n",
        "            <header>\n",
        "              <h2>Velocity Curves</h2>\n",
        "            </header>\n",
        "            <main>\n",
        "              <img class=\"responsive\" src=\"chart.svg\" alt=\"Chart\" />\n",
        "            </main>\n",
        "            <footer>\n",
        "              <time>2016-04-01 12:21 UTC</time>\n",
        "            </footer>\n",
        "          </div>\n",
        "        </div>\n",
        "\n",
        "        <div class=\"col-xs-12 col-sm-12 col-md-6\">\n",
        "          <div class=\"panel double\">\n",
        "            <header>\n",
        "              <h2>Motor Control</h2>\n",
        "            </header>\n",
        "            <main>\n",
        "              <form>\n",
        "                <div class=\"row\">\n",
        "                  <div class=\"col-md-3\">\n",
        "                    <label>Motor TL</label>\n",
        "                    <input type=\"number\" value=\"210\" />\n",
        "                  </div>\n",
        "                  <div class=\"col-md-3\">\n",
        "                    <label>Motor TR</label>\n",
        "                    <input type=\"number\" value=\"0\" />\n",
        "                  </div>\n",
        "                  <div class=\"col-md-3\">\n",
        "                    <label>Motor BL</label>\n",
        "                    <input type=\"number\" value=\"405\" />\n",
        "                  </div>\n",
        "                  <div class=\"col-md-3\">\n",
        "                    <label>Motor BR</label>\n",
        "                    <input type=\"number\" value=\"313\" />\n",
        "                  </div>\n",
        "                </div>\n",
        "                <div class=\"row\">\n",
        "                  <div class=\"col-md-3\">\n",
        "                    <label>Trim TL</label>\n",
        "                    <input type=\"number\" value=\"14\" />\n",
        "                  </div>\n",
        "                  <div class=\"col-md-3\">\n",
        "                    <label>Trim TR</label>\n",
        "                    <input type=\"number\" value=\"0\" />\n",
        "                  </div>\n",
        "                  <div class=\"col-md-3\">\n",
        "                    <label>Trim BL</label>\n",
        "                    <input type=\"number\" value=\"0\" />\n",
        "                  </div>\n",
        "                  <div class=\"col-md-3\">\n",
        "                    <label>Trim BR</label>\n",
        "                    <input type=\"number\" value=\"-10\" />\n",
        "                  </div>\n",
        "                </div>\n",
        "\n",
        "                <button class=\"info\">Apply</button>\n",
        "                <button class=\"warning\">Execute</button>\n",
        "                <button class=\"danger\">Halt</button>\n",
        "              </form>\n",
        "            </main>\n",
        "          </div>\n",
        "        </div>\n",
        "\n",
        "      </div>\n",
        "\n",
        "    </main>\n",
        "    <footer>\n",
        "      <p>\n",
        "        <small>\n",
        "        MPCR Lab\n",
        "        </small>\n",
        "      </p>\n",
        "    </footer>\n",
        "  </body>\n",
        "</html>\n",
        "'''\n",
        "    return doc\n",
        "\n",
        "\n",
        "@app.route('/')\n",
        "def serve_html(request):\n",
        "    return htmldoc()\n",
        "\n",
        "app.run(debug=True, port=8011)"
      ],
      "metadata": {
        "id": "hYM-GY1AA9M0"
      },
      "execution_count": null,
      "outputs": []
    },
    {
      "cell_type": "markdown",
      "source": [
        "# Data Preprocessing"
      ],
      "metadata": {
        "id": "j1NMnqJTBQkR"
      }
    },
    {
      "cell_type": "code",
      "source": [
        "from google.colab import files\n",
        "uploaded = files.upload()"
      ],
      "metadata": {
        "colab": {
          "base_uri": "https://localhost:8080/",
          "height": 73
        },
        "id": "sedSuDQwCW66",
        "outputId": "959d86dc-2103-405d-ac2a-f120ab1c3c94"
      },
      "execution_count": 106,
      "outputs": [
        {
          "output_type": "display_data",
          "data": {
            "text/plain": [
              "<IPython.core.display.HTML object>"
            ],
            "text/html": [
              "\n",
              "     <input type=\"file\" id=\"files-077ee30b-9fa1-459b-bbb3-aedd6ff6180c\" name=\"files[]\" multiple disabled\n",
              "        style=\"border:none\" />\n",
              "     <output id=\"result-077ee30b-9fa1-459b-bbb3-aedd6ff6180c\">\n",
              "      Upload widget is only available when the cell has been executed in the\n",
              "      current browser session. Please rerun this cell to enable.\n",
              "      </output>\n",
              "      <script>// Copyright 2017 Google LLC\n",
              "//\n",
              "// Licensed under the Apache License, Version 2.0 (the \"License\");\n",
              "// you may not use this file except in compliance with the License.\n",
              "// You may obtain a copy of the License at\n",
              "//\n",
              "//      http://www.apache.org/licenses/LICENSE-2.0\n",
              "//\n",
              "// Unless required by applicable law or agreed to in writing, software\n",
              "// distributed under the License is distributed on an \"AS IS\" BASIS,\n",
              "// WITHOUT WARRANTIES OR CONDITIONS OF ANY KIND, either express or implied.\n",
              "// See the License for the specific language governing permissions and\n",
              "// limitations under the License.\n",
              "\n",
              "/**\n",
              " * @fileoverview Helpers for google.colab Python module.\n",
              " */\n",
              "(function(scope) {\n",
              "function span(text, styleAttributes = {}) {\n",
              "  const element = document.createElement('span');\n",
              "  element.textContent = text;\n",
              "  for (const key of Object.keys(styleAttributes)) {\n",
              "    element.style[key] = styleAttributes[key];\n",
              "  }\n",
              "  return element;\n",
              "}\n",
              "\n",
              "// Max number of bytes which will be uploaded at a time.\n",
              "const MAX_PAYLOAD_SIZE = 100 * 1024;\n",
              "\n",
              "function _uploadFiles(inputId, outputId) {\n",
              "  const steps = uploadFilesStep(inputId, outputId);\n",
              "  const outputElement = document.getElementById(outputId);\n",
              "  // Cache steps on the outputElement to make it available for the next call\n",
              "  // to uploadFilesContinue from Python.\n",
              "  outputElement.steps = steps;\n",
              "\n",
              "  return _uploadFilesContinue(outputId);\n",
              "}\n",
              "\n",
              "// This is roughly an async generator (not supported in the browser yet),\n",
              "// where there are multiple asynchronous steps and the Python side is going\n",
              "// to poll for completion of each step.\n",
              "// This uses a Promise to block the python side on completion of each step,\n",
              "// then passes the result of the previous step as the input to the next step.\n",
              "function _uploadFilesContinue(outputId) {\n",
              "  const outputElement = document.getElementById(outputId);\n",
              "  const steps = outputElement.steps;\n",
              "\n",
              "  const next = steps.next(outputElement.lastPromiseValue);\n",
              "  return Promise.resolve(next.value.promise).then((value) => {\n",
              "    // Cache the last promise value to make it available to the next\n",
              "    // step of the generator.\n",
              "    outputElement.lastPromiseValue = value;\n",
              "    return next.value.response;\n",
              "  });\n",
              "}\n",
              "\n",
              "/**\n",
              " * Generator function which is called between each async step of the upload\n",
              " * process.\n",
              " * @param {string} inputId Element ID of the input file picker element.\n",
              " * @param {string} outputId Element ID of the output display.\n",
              " * @return {!Iterable<!Object>} Iterable of next steps.\n",
              " */\n",
              "function* uploadFilesStep(inputId, outputId) {\n",
              "  const inputElement = document.getElementById(inputId);\n",
              "  inputElement.disabled = false;\n",
              "\n",
              "  const outputElement = document.getElementById(outputId);\n",
              "  outputElement.innerHTML = '';\n",
              "\n",
              "  const pickedPromise = new Promise((resolve) => {\n",
              "    inputElement.addEventListener('change', (e) => {\n",
              "      resolve(e.target.files);\n",
              "    });\n",
              "  });\n",
              "\n",
              "  const cancel = document.createElement('button');\n",
              "  inputElement.parentElement.appendChild(cancel);\n",
              "  cancel.textContent = 'Cancel upload';\n",
              "  const cancelPromise = new Promise((resolve) => {\n",
              "    cancel.onclick = () => {\n",
              "      resolve(null);\n",
              "    };\n",
              "  });\n",
              "\n",
              "  // Wait for the user to pick the files.\n",
              "  const files = yield {\n",
              "    promise: Promise.race([pickedPromise, cancelPromise]),\n",
              "    response: {\n",
              "      action: 'starting',\n",
              "    }\n",
              "  };\n",
              "\n",
              "  cancel.remove();\n",
              "\n",
              "  // Disable the input element since further picks are not allowed.\n",
              "  inputElement.disabled = true;\n",
              "\n",
              "  if (!files) {\n",
              "    return {\n",
              "      response: {\n",
              "        action: 'complete',\n",
              "      }\n",
              "    };\n",
              "  }\n",
              "\n",
              "  for (const file of files) {\n",
              "    const li = document.createElement('li');\n",
              "    li.append(span(file.name, {fontWeight: 'bold'}));\n",
              "    li.append(span(\n",
              "        `(${file.type || 'n/a'}) - ${file.size} bytes, ` +\n",
              "        `last modified: ${\n",
              "            file.lastModifiedDate ? file.lastModifiedDate.toLocaleDateString() :\n",
              "                                    'n/a'} - `));\n",
              "    const percent = span('0% done');\n",
              "    li.appendChild(percent);\n",
              "\n",
              "    outputElement.appendChild(li);\n",
              "\n",
              "    const fileDataPromise = new Promise((resolve) => {\n",
              "      const reader = new FileReader();\n",
              "      reader.onload = (e) => {\n",
              "        resolve(e.target.result);\n",
              "      };\n",
              "      reader.readAsArrayBuffer(file);\n",
              "    });\n",
              "    // Wait for the data to be ready.\n",
              "    let fileData = yield {\n",
              "      promise: fileDataPromise,\n",
              "      response: {\n",
              "        action: 'continue',\n",
              "      }\n",
              "    };\n",
              "\n",
              "    // Use a chunked sending to avoid message size limits. See b/62115660.\n",
              "    let position = 0;\n",
              "    do {\n",
              "      const length = Math.min(fileData.byteLength - position, MAX_PAYLOAD_SIZE);\n",
              "      const chunk = new Uint8Array(fileData, position, length);\n",
              "      position += length;\n",
              "\n",
              "      const base64 = btoa(String.fromCharCode.apply(null, chunk));\n",
              "      yield {\n",
              "        response: {\n",
              "          action: 'append',\n",
              "          file: file.name,\n",
              "          data: base64,\n",
              "        },\n",
              "      };\n",
              "\n",
              "      let percentDone = fileData.byteLength === 0 ?\n",
              "          100 :\n",
              "          Math.round((position / fileData.byteLength) * 100);\n",
              "      percent.textContent = `${percentDone}% done`;\n",
              "\n",
              "    } while (position < fileData.byteLength);\n",
              "  }\n",
              "\n",
              "  // All done.\n",
              "  yield {\n",
              "    response: {\n",
              "      action: 'complete',\n",
              "    }\n",
              "  };\n",
              "}\n",
              "\n",
              "scope.google = scope.google || {};\n",
              "scope.google.colab = scope.google.colab || {};\n",
              "scope.google.colab._files = {\n",
              "  _uploadFiles,\n",
              "  _uploadFilesContinue,\n",
              "};\n",
              "})(self);\n",
              "</script> "
            ]
          },
          "metadata": {}
        },
        {
          "output_type": "stream",
          "name": "stdout",
          "text": [
            "Saving hand_gesture.jpg to hand_gesture (3).jpg\n"
          ]
        }
      ]
    },
    {
      "cell_type": "code",
      "source": [
        "from google.colab.patches import cv2_imshow\n",
        "import os\n",
        "import cv2\n",
        "import numpy as np"
      ],
      "metadata": {
        "id": "61H-AGJhBUGN"
      },
      "execution_count": 107,
      "outputs": []
    },
    {
      "cell_type": "code",
      "source": [
        "# Load the image\n",
        "image = cv2.imread('hand_gesture.jpg')"
      ],
      "metadata": {
        "id": "BzImYMpzCT9T"
      },
      "execution_count": 108,
      "outputs": []
    },
    {
      "cell_type": "code",
      "source": [
        "# Resize the image to 224x224 pixels\n",
        "resized_image = cv2.resize(image, (224, 224))"
      ],
      "metadata": {
        "id": "8oS_9fI4CT6u"
      },
      "execution_count": 109,
      "outputs": []
    },
    {
      "cell_type": "code",
      "source": [
        "# Convert the image to RGB\n",
        "rgb_image = cv2.cvtColor(resized_image, cv2.COLOR_BGR2RGB)"
      ],
      "metadata": {
        "id": "v2a-W56ICTxB"
      },
      "execution_count": 110,
      "outputs": []
    },
    {
      "cell_type": "code",
      "source": [
        "# Display the preprocessed image\n",
        "cv2_imshow(rgb_image)"
      ],
      "metadata": {
        "colab": {
          "base_uri": "https://localhost:8080/",
          "height": 241
        },
        "id": "AcStlmr3C7Eg",
        "outputId": "d9b230c1-b8a4-4cfc-fa4f-9676ed211f41"
      },
      "execution_count": 123,
      "outputs": [
        {
          "output_type": "display_data",
          "data": {
            "text/plain": [
              "<PIL.Image.Image image mode=RGB size=224x224 at 0x7FB7D5174CD0>"
            ],
            "image/png": "[encoded data removed]"
          },
          "metadata": {}
        }
      ]
    },
    {
      "cell_type": "code",
      "source": [
        "# Convert the preprocessed image to a PyTorch tensor\n",
        "preprocessed_image_tensor = torch.from_numpy(rgb_image).unsqueeze(0).permute(0, 3, 1, 2).float()"
      ],
      "metadata": {
        "id": "eh4n7WupTp4i"
      },
      "execution_count": 133,
      "outputs": []
    },
    {
      "cell_type": "code",
      "source": [
        "# Define the label for the single image\n",
        "label = torch.tensor([0])"
      ],
      "metadata": {
        "id": "8_YWrRU9UsSj"
      },
      "execution_count": 134,
      "outputs": []
    },
    {
      "cell_type": "code",
      "source": [
        "# Create the TensorDataset\n",
        "dataset = TensorDataset(preprocessed_image_tensor, label)"
      ],
      "metadata": {
        "id": "uYjQaa8dUsFi"
      },
      "execution_count": 135,
      "outputs": []
    },
    {
      "cell_type": "code",
      "source": [
        "# Define the batch size and create the DataLoader\n",
        "batch_size = 1\n",
        "data_loader = DataLoader(dataset, batch_size=batch_size, shuffle=True)\n"
      ],
      "metadata": {
        "id": "H-q25ORtUr32"
      },
      "execution_count": 136,
      "outputs": []
    },
    {
      "cell_type": "markdown",
      "source": [
        "# CNN Model Training"
      ],
      "metadata": {
        "id": "ofRwI5YAHUu4"
      }
    },
    {
      "cell_type": "code",
      "source": [
        "import torch\n",
        "import torch.nn as nn\n",
        "import torch.optim as optim\n",
        "from torch.utils.data import TensorDataset, DataLoader"
      ],
      "metadata": {
        "id": "yG9cg79_H-eh"
      },
      "execution_count": 151,
      "outputs": []
    },
    {
      "cell_type": "code",
      "source": [
        "class CNN(nn.Module):\n",
        "        def __init__(self):\n",
        "            super(CNN, self).__init__()\n",
        "            self.conv1 = nn.Conv2d(3, 16, 3, padding=1)\n",
        "            self.relu1 = nn.ReLU()\n",
        "            self.pool1 = nn.MaxPool2d(2)\n",
        "            self.conv2 = nn.Conv2d(16, 32, 3, padding=1)\n",
        "            self.relu2 = nn.ReLU()\n",
        "            self.pool2 = nn.MaxPool2d(2, padding=1)\n",
        "            self.fc1 = nn.Linear(32 * 57 * 57, 128)\n",
        "            self.relu3 = nn.ReLU()\n",
        "            self.fc2 = nn.Linear(128, 10)\n",
        "\n",
        "        def forward(self, x):\n",
        "            x = self.conv1(x)\n",
        "            x = self.relu1(x)\n",
        "            x = self.pool1(x)\n",
        "            x = self.conv2(x)\n",
        "            x = self.relu2(x)\n",
        "            x = self.pool2(x)\n",
        "            x = x.view(x.size(0), -1)\n",
        "            x = self.fc1(x)\n",
        "            x = self.relu3(x)\n",
        "            x = self.fc2(x)\n",
        "            return x"
      ],
      "metadata": {
        "id": "NzQhgIKHHcP_"
      },
      "execution_count": 152,
      "outputs": []
    },
    {
      "cell_type": "code",
      "source": [
        "# Call the model before running through the training loop:\n",
        "model = CNN()"
      ],
      "metadata": {
        "id": "lc2CzvZ1I2M8"
      },
      "execution_count": 153,
      "outputs": []
    },
    {
      "cell_type": "code",
      "source": [
        "# Define loss function:\n",
        "loss_function = nn.CrossEntropyLoss()"
      ],
      "metadata": {
        "id": "JYv1W3kmHcnE"
      },
      "execution_count": 154,
      "outputs": []
    },
    {
      "cell_type": "code",
      "source": [
        "# Optimizer:\n",
        "optimizer = torch.optim.Adam(model.parameters(), lr=0.001)"
      ],
      "metadata": {
        "id": "G06xMnQzHce9"
      },
      "execution_count": 155,
      "outputs": []
    },
    {
      "cell_type": "code",
      "source": [
        "# Move the model to the device (CPU or GPU)\n",
        "device = torch.device(\"cuda\" if torch.cuda.is_available() else \"cpu\")\n",
        "model.to(device)"
      ],
      "metadata": {
        "id": "hq6v0yweJXpq"
      },
      "execution_count": null,
      "outputs": []
    },
    {
      "cell_type": "code",
      "source": [
        "# Training Loop\n",
        "num_epochs = 10\n",
        "for epoch in range(num_epochs):\n",
        "    for images, labels in data_loader:\n",
        "        # Move the images and labels to the device\n",
        "        images = images.to(device)\n",
        "        labels = labels.to(device)\n",
        "\n",
        "        # Zero the gradients\n",
        "        optimizer.zero_grad()\n",
        "\n",
        "        # Forward pass\n",
        "        outputs = model(images)\n",
        "\n",
        "        # Calculate the loss\n",
        "        loss = loss_function(outputs, labels)\n",
        "\n",
        "        # Backward pass\n",
        "        loss.backward()\n",
        "\n",
        "        # Update the weights\n",
        "        optimizer.step()\n",
        "\n",
        "    print(f\"Epoch: {epoch+1}/{num_epochs}, Loss: {loss.item():.4f}\")"
      ],
      "metadata": {
        "colab": {
          "base_uri": "https://localhost:8080/"
        },
        "id": "dJIX-LPRIMpk",
        "outputId": "16b89f9b-315b-493b-fc5b-7d90f01c6d6a"
      },
      "execution_count": 157,
      "outputs": [
        {
          "output_type": "stream",
          "name": "stdout",
          "text": [
            "Epoch: 1/10, Loss: 9.1113\n",
            "Epoch: 2/10, Loss: 0.0000\n",
            "Epoch: 3/10, Loss: 0.0000\n",
            "Epoch: 4/10, Loss: 0.0000\n",
            "Epoch: 5/10, Loss: 0.0000\n",
            "Epoch: 6/10, Loss: 0.0000\n",
            "Epoch: 7/10, Loss: 0.0000\n",
            "Epoch: 8/10, Loss: 0.0000\n",
            "Epoch: 9/10, Loss: 0.0000\n",
            "Epoch: 10/10, Loss: 0.0000\n"
          ]
        }
      ]
    },
    {
      "cell_type": "code",
      "source": [],
      "metadata": {
        "id": "ohT2qe3cV3gR"
      },
      "execution_count": null,
      "outputs": []
    },
    {
      "cell_type": "markdown",
      "source": [
        "# CNN Model Evaluation"
      ],
      "metadata": {
        "id": "FDLq3jiaXOj7"
      }
    },
    {
      "cell_type": "code",
      "source": [
        "# Assuming you have test_images and test_labels as your testing dataset\n",
        "test_dataset = TensorDataset(test_images, test_labels)\n",
        "test_data_loader = DataLoader(test_dataset, batch_size=batch_size, shuffle=False)"
      ],
      "metadata": {
        "id": "cVTWncrGXRaT"
      },
      "execution_count": null,
      "outputs": []
    },
    {
      "cell_type": "code",
      "source": [
        "model.eval()"
      ],
      "metadata": {
        "id": "WYuLW5UPXSc6"
      },
      "execution_count": null,
      "outputs": []
    },
    {
      "cell_type": "code",
      "source": [
        "# Iterate over the testing DataLoader and compute predictions:\n",
        "with torch.no_grad():  # Disable gradient calculation during evaluation\n",
        "    for images, labels in test_data_loader:\n",
        "        images = images.to(device)\n",
        "        labels = labels.to(device)\n",
        "\n",
        "        # Forward pass\n",
        "        outputs = model(images)\n",
        "\n",
        "        # Compute predictions\n",
        "        _, predicted = torch.max(outputs.data, 1)\n",
        "\n",
        "        # Perform further computations or store predictions as needed\n"
      ],
      "metadata": {
        "id": "Zgbs-AyJXSaR"
      },
      "execution_count": null,
      "outputs": []
    },
    {
      "cell_type": "code",
      "source": [
        "correct = 0\n",
        "total = 0\n",
        "\n",
        "with torch.no_grad():\n",
        "    for images, labels in test_data_loader:\n",
        "        images = images.to(device)\n",
        "        labels = labels.to(device)\n",
        "\n",
        "        outputs = model(images)\n",
        "        _, predicted = torch.max(outputs.data, 1)\n",
        "\n",
        "        total += labels.size(0)\n",
        "        correct += (predicted == labels).sum().item()\n",
        "\n",
        "accuracy = correct / total\n",
        "print(\"Accuracy on the testing dataset: {:.2%}\".format(accuracy))"
      ],
      "metadata": {
        "id": "jH3NSEJOXSX8"
      },
      "execution_count": null,
      "outputs": []
    },
    {
      "cell_type": "code",
      "source": [],
      "metadata": {
        "id": "DYV6_Bo9XSVB"
      },
      "execution_count": null,
      "outputs": []
    },
    {
      "cell_type": "code",
      "source": [],
      "metadata": {
        "id": "StFrDGJhXSSW"
      },
      "execution_count": null,
      "outputs": []
    },
    {
      "cell_type": "code",
      "source": [],
      "metadata": {
        "id": "icqNMePoXR6S"
      },
      "execution_count": null,
      "outputs": []
    }
  ]
}
